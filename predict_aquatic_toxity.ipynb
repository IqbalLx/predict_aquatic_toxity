{
  "nbformat": 4,
  "nbformat_minor": 0,
  "metadata": {
    "colab": {
      "name": "predict_aquatic_toxity.ipynb",
      "provenance": [],
      "collapsed_sections": [],
      "include_colab_link": true
    },
    "kernelspec": {
      "name": "python3",
      "display_name": "Python 3"
    },
    "accelerator": "GPU"
  },
  "cells": [
    {
      "cell_type": "markdown",
      "metadata": {
        "id": "view-in-github",
        "colab_type": "text"
      },
      "source": [
        "<a href=\"https://colab.research.google.com/github/chilaact/predict_aquatic_toxity/blob/master/predict_aquatic_toxity.ipynb\" target=\"_parent\"><img src=\"https://colab.research.google.com/assets/colab-badge.svg\" alt=\"Open In Colab\"/></a>"
      ]
    },
    {
      "cell_type": "markdown",
      "metadata": {
        "id": "W5QsI7ZTiNyj",
        "colab_type": "text"
      },
      "source": [
        "# QSAR Aquatic Toxicity Prediction with Simple Neural Networks Using TensorFlow"
      ]
    },
    {
      "cell_type": "markdown",
      "metadata": {
        "id": "7TXqaMLrssmV",
        "colab_type": "text"
      },
      "source": [
        "Mount drive"
      ]
    },
    {
      "cell_type": "code",
      "metadata": {
        "id": "ltt2lHejVcjF",
        "colab_type": "code",
        "outputId": "ce5101f3-dc3d-48b8-b011-14fae49532b2",
        "colab": {
          "base_uri": "https://localhost:8080/",
          "height": 54
        }
      },
      "source": [
        "from google.colab import drive\n",
        "drive.mount('/content/drive')"
      ],
      "execution_count": 15,
      "outputs": [
        {
          "output_type": "stream",
          "text": [
            "Drive already mounted at /content/drive; to attempt to forcibly remount, call drive.mount(\"/content/drive\", force_remount=True).\n"
          ],
          "name": "stdout"
        }
      ]
    },
    {
      "cell_type": "markdown",
      "metadata": {
        "id": "p4muH0qBQ0B9",
        "colab_type": "text"
      },
      "source": [
        "## **Data Preparation**"
      ]
    },
    {
      "cell_type": "markdown",
      "metadata": {
        "id": "YT1Yfr85sx4d",
        "colab_type": "text"
      },
      "source": [
        "Import libraries"
      ]
    },
    {
      "cell_type": "code",
      "metadata": {
        "id": "JK05KEJF0EbO",
        "colab_type": "code",
        "colab": {}
      },
      "source": [
        "from pandas import read_csv\n",
        "from matplotlib import pyplot as plt\n",
        "\n",
        "from sklearn.model_selection import train_test_split\n",
        "\n",
        "from sklearn.neural_network import MLPRegressor\n",
        "from sklearn.linear_model import LinearRegression\n",
        "\n",
        "from sklearn.metrics import mean_squared_error"
      ],
      "execution_count": 0,
      "outputs": []
    },
    {
      "cell_type": "markdown",
      "metadata": {
        "id": "wWTzFHZK0qGc",
        "colab_type": "text"
      },
      "source": [
        "## Load data"
      ]
    },
    {
      "cell_type": "code",
      "metadata": {
        "id": "sl1L8U360Sdw",
        "colab_type": "code",
        "colab": {
          "base_uri": "https://localhost:8080/",
          "height": 419
        },
        "outputId": "66bb70fa-2472-4e9d-8e12-119c4e3e4780"
      },
      "source": [
        "data = read_csv(\"/content/drive/My Drive/Colab Notebooks/task/qsar_aquatic_toxicity.csv\", sep=\";\")\n",
        "data"
      ],
      "execution_count": 17,
      "outputs": [
        {
          "output_type": "execute_result",
          "data": {
            "text/html": [
              "<div>\n",
              "<style scoped>\n",
              "    .dataframe tbody tr th:only-of-type {\n",
              "        vertical-align: middle;\n",
              "    }\n",
              "\n",
              "    .dataframe tbody tr th {\n",
              "        vertical-align: top;\n",
              "    }\n",
              "\n",
              "    .dataframe thead th {\n",
              "        text-align: right;\n",
              "    }\n",
              "</style>\n",
              "<table border=\"1\" class=\"dataframe\">\n",
              "  <thead>\n",
              "    <tr style=\"text-align: right;\">\n",
              "      <th></th>\n",
              "      <th>TPSA</th>\n",
              "      <th>SAacc</th>\n",
              "      <th>H-050</th>\n",
              "      <th>MLOGP</th>\n",
              "      <th>RDCHI</th>\n",
              "      <th>GATS1p</th>\n",
              "      <th>nN</th>\n",
              "      <th>C-040</th>\n",
              "      <th>quantitive response</th>\n",
              "    </tr>\n",
              "  </thead>\n",
              "  <tbody>\n",
              "    <tr>\n",
              "      <th>0</th>\n",
              "      <td>0.00</td>\n",
              "      <td>0.000</td>\n",
              "      <td>0</td>\n",
              "      <td>2.419</td>\n",
              "      <td>1.225</td>\n",
              "      <td>0.667</td>\n",
              "      <td>0</td>\n",
              "      <td>0</td>\n",
              "      <td>3.740</td>\n",
              "    </tr>\n",
              "    <tr>\n",
              "      <th>1</th>\n",
              "      <td>0.00</td>\n",
              "      <td>0.000</td>\n",
              "      <td>0</td>\n",
              "      <td>2.638</td>\n",
              "      <td>1.401</td>\n",
              "      <td>0.632</td>\n",
              "      <td>0</td>\n",
              "      <td>0</td>\n",
              "      <td>4.330</td>\n",
              "    </tr>\n",
              "    <tr>\n",
              "      <th>2</th>\n",
              "      <td>9.23</td>\n",
              "      <td>11.000</td>\n",
              "      <td>0</td>\n",
              "      <td>5.799</td>\n",
              "      <td>2.930</td>\n",
              "      <td>0.486</td>\n",
              "      <td>0</td>\n",
              "      <td>0</td>\n",
              "      <td>7.019</td>\n",
              "    </tr>\n",
              "    <tr>\n",
              "      <th>3</th>\n",
              "      <td>9.23</td>\n",
              "      <td>11.000</td>\n",
              "      <td>0</td>\n",
              "      <td>5.453</td>\n",
              "      <td>2.887</td>\n",
              "      <td>0.495</td>\n",
              "      <td>0</td>\n",
              "      <td>0</td>\n",
              "      <td>6.723</td>\n",
              "    </tr>\n",
              "    <tr>\n",
              "      <th>4</th>\n",
              "      <td>9.23</td>\n",
              "      <td>11.000</td>\n",
              "      <td>0</td>\n",
              "      <td>4.068</td>\n",
              "      <td>2.758</td>\n",
              "      <td>0.695</td>\n",
              "      <td>0</td>\n",
              "      <td>0</td>\n",
              "      <td>5.979</td>\n",
              "    </tr>\n",
              "    <tr>\n",
              "      <th>...</th>\n",
              "      <td>...</td>\n",
              "      <td>...</td>\n",
              "      <td>...</td>\n",
              "      <td>...</td>\n",
              "      <td>...</td>\n",
              "      <td>...</td>\n",
              "      <td>...</td>\n",
              "      <td>...</td>\n",
              "      <td>...</td>\n",
              "    </tr>\n",
              "    <tr>\n",
              "      <th>541</th>\n",
              "      <td>24.06</td>\n",
              "      <td>35.776</td>\n",
              "      <td>2</td>\n",
              "      <td>3.326</td>\n",
              "      <td>2.837</td>\n",
              "      <td>0.849</td>\n",
              "      <td>2</td>\n",
              "      <td>0</td>\n",
              "      <td>4.651</td>\n",
              "    </tr>\n",
              "    <tr>\n",
              "      <th>542</th>\n",
              "      <td>9.23</td>\n",
              "      <td>11.000</td>\n",
              "      <td>0</td>\n",
              "      <td>3.275</td>\n",
              "      <td>2.727</td>\n",
              "      <td>0.874</td>\n",
              "      <td>0</td>\n",
              "      <td>0</td>\n",
              "      <td>3.953</td>\n",
              "    </tr>\n",
              "    <tr>\n",
              "      <th>543</th>\n",
              "      <td>0.00</td>\n",
              "      <td>0.000</td>\n",
              "      <td>0</td>\n",
              "      <td>5.165</td>\n",
              "      <td>3.111</td>\n",
              "      <td>0.732</td>\n",
              "      <td>0</td>\n",
              "      <td>0</td>\n",
              "      <td>6.219</td>\n",
              "    </tr>\n",
              "    <tr>\n",
              "      <th>544</th>\n",
              "      <td>13.14</td>\n",
              "      <td>9.507</td>\n",
              "      <td>0</td>\n",
              "      <td>2.859</td>\n",
              "      <td>2.614</td>\n",
              "      <td>0.827</td>\n",
              "      <td>0</td>\n",
              "      <td>0</td>\n",
              "      <td>4.995</td>\n",
              "    </tr>\n",
              "    <tr>\n",
              "      <th>545</th>\n",
              "      <td>0.00</td>\n",
              "      <td>0.000</td>\n",
              "      <td>0</td>\n",
              "      <td>2.255</td>\n",
              "      <td>1.800</td>\n",
              "      <td>0.917</td>\n",
              "      <td>0</td>\n",
              "      <td>0</td>\n",
              "      <td>2.480</td>\n",
              "    </tr>\n",
              "  </tbody>\n",
              "</table>\n",
              "<p>546 rows × 9 columns</p>\n",
              "</div>"
            ],
            "text/plain": [
              "      TPSA   SAacc  H-050  MLOGP  RDCHI  GATS1p  nN  C-040  quantitive response\n",
              "0     0.00   0.000      0  2.419  1.225   0.667   0      0                3.740\n",
              "1     0.00   0.000      0  2.638  1.401   0.632   0      0                4.330\n",
              "2     9.23  11.000      0  5.799  2.930   0.486   0      0                7.019\n",
              "3     9.23  11.000      0  5.453  2.887   0.495   0      0                6.723\n",
              "4     9.23  11.000      0  4.068  2.758   0.695   0      0                5.979\n",
              "..     ...     ...    ...    ...    ...     ...  ..    ...                  ...\n",
              "541  24.06  35.776      2  3.326  2.837   0.849   2      0                4.651\n",
              "542   9.23  11.000      0  3.275  2.727   0.874   0      0                3.953\n",
              "543   0.00   0.000      0  5.165  3.111   0.732   0      0                6.219\n",
              "544  13.14   9.507      0  2.859  2.614   0.827   0      0                4.995\n",
              "545   0.00   0.000      0  2.255  1.800   0.917   0      0                2.480\n",
              "\n",
              "[546 rows x 9 columns]"
            ]
          },
          "metadata": {
            "tags": []
          },
          "execution_count": 17
        }
      ]
    },
    {
      "cell_type": "markdown",
      "metadata": {
        "id": "QXFL0FXFtHlP",
        "colab_type": "text"
      },
      "source": [
        "dataset from https://archive.ics.uci.edu/ml/datasets/QSAR+aquatic+toxicity"
      ]
    },
    {
      "cell_type": "markdown",
      "metadata": {
        "id": "wdWJADpgRNg-",
        "colab_type": "text"
      },
      "source": [
        "**Data information and characteristics**"
      ]
    },
    {
      "cell_type": "code",
      "metadata": {
        "id": "e5mlJ_8VRbxt",
        "colab_type": "code",
        "colab": {
          "base_uri": "https://localhost:8080/",
          "height": 535
        },
        "outputId": "0bb9b5c7-1d52-4c9f-86cf-cbc516e381b9"
      },
      "source": [
        "data.info()\n",
        "data.describe()"
      ],
      "execution_count": 29,
      "outputs": [
        {
          "output_type": "stream",
          "text": [
            "<class 'pandas.core.frame.DataFrame'>\n",
            "RangeIndex: 546 entries, 0 to 545\n",
            "Data columns (total 9 columns):\n",
            "TPSA                   546 non-null float64\n",
            "SAacc                  546 non-null float64\n",
            "H-050                  546 non-null int64\n",
            "MLOGP                  546 non-null float64\n",
            "RDCHI                  546 non-null float64\n",
            "GATS1p                 546 non-null float64\n",
            "nN                     546 non-null int64\n",
            "C-040                  546 non-null int64\n",
            "quantitive response    546 non-null float64\n",
            "dtypes: float64(6), int64(3)\n",
            "memory usage: 38.5 KB\n"
          ],
          "name": "stdout"
        },
        {
          "output_type": "execute_result",
          "data": {
            "text/html": [
              "<div>\n",
              "<style scoped>\n",
              "    .dataframe tbody tr th:only-of-type {\n",
              "        vertical-align: middle;\n",
              "    }\n",
              "\n",
              "    .dataframe tbody tr th {\n",
              "        vertical-align: top;\n",
              "    }\n",
              "\n",
              "    .dataframe thead th {\n",
              "        text-align: right;\n",
              "    }\n",
              "</style>\n",
              "<table border=\"1\" class=\"dataframe\">\n",
              "  <thead>\n",
              "    <tr style=\"text-align: right;\">\n",
              "      <th></th>\n",
              "      <th>TPSA</th>\n",
              "      <th>SAacc</th>\n",
              "      <th>H-050</th>\n",
              "      <th>MLOGP</th>\n",
              "      <th>RDCHI</th>\n",
              "      <th>GATS1p</th>\n",
              "      <th>nN</th>\n",
              "      <th>C-040</th>\n",
              "      <th>quantitive response</th>\n",
              "    </tr>\n",
              "  </thead>\n",
              "  <tbody>\n",
              "    <tr>\n",
              "      <th>count</th>\n",
              "      <td>546.000000</td>\n",
              "      <td>546.000000</td>\n",
              "      <td>546.000000</td>\n",
              "      <td>546.000000</td>\n",
              "      <td>546.000000</td>\n",
              "      <td>546.000000</td>\n",
              "      <td>546.000000</td>\n",
              "      <td>546.000000</td>\n",
              "      <td>546.000000</td>\n",
              "    </tr>\n",
              "    <tr>\n",
              "      <th>mean</th>\n",
              "      <td>48.472930</td>\n",
              "      <td>58.869018</td>\n",
              "      <td>0.937729</td>\n",
              "      <td>2.313493</td>\n",
              "      <td>2.492299</td>\n",
              "      <td>1.046264</td>\n",
              "      <td>1.003663</td>\n",
              "      <td>0.353480</td>\n",
              "      <td>4.658421</td>\n",
              "    </tr>\n",
              "    <tr>\n",
              "      <th>std</th>\n",
              "      <td>46.763983</td>\n",
              "      <td>68.166554</td>\n",
              "      <td>1.618632</td>\n",
              "      <td>1.741797</td>\n",
              "      <td>0.811004</td>\n",
              "      <td>0.403677</td>\n",
              "      <td>1.397240</td>\n",
              "      <td>0.806827</td>\n",
              "      <td>1.665215</td>\n",
              "    </tr>\n",
              "    <tr>\n",
              "      <th>min</th>\n",
              "      <td>0.000000</td>\n",
              "      <td>0.000000</td>\n",
              "      <td>0.000000</td>\n",
              "      <td>-6.446000</td>\n",
              "      <td>1.000000</td>\n",
              "      <td>0.281000</td>\n",
              "      <td>0.000000</td>\n",
              "      <td>0.000000</td>\n",
              "      <td>0.122000</td>\n",
              "    </tr>\n",
              "    <tr>\n",
              "      <th>25%</th>\n",
              "      <td>15.790000</td>\n",
              "      <td>11.000000</td>\n",
              "      <td>0.000000</td>\n",
              "      <td>1.232500</td>\n",
              "      <td>1.975000</td>\n",
              "      <td>0.737000</td>\n",
              "      <td>0.000000</td>\n",
              "      <td>0.000000</td>\n",
              "      <td>3.601500</td>\n",
              "    </tr>\n",
              "    <tr>\n",
              "      <th>50%</th>\n",
              "      <td>40.460000</td>\n",
              "      <td>42.683000</td>\n",
              "      <td>0.000000</td>\n",
              "      <td>2.273500</td>\n",
              "      <td>2.344000</td>\n",
              "      <td>1.020500</td>\n",
              "      <td>1.000000</td>\n",
              "      <td>0.000000</td>\n",
              "      <td>4.516000</td>\n",
              "    </tr>\n",
              "    <tr>\n",
              "      <th>75%</th>\n",
              "      <td>70.022500</td>\n",
              "      <td>77.492750</td>\n",
              "      <td>1.000000</td>\n",
              "      <td>3.392750</td>\n",
              "      <td>2.911000</td>\n",
              "      <td>1.266500</td>\n",
              "      <td>2.000000</td>\n",
              "      <td>0.000000</td>\n",
              "      <td>5.607500</td>\n",
              "    </tr>\n",
              "    <tr>\n",
              "      <th>max</th>\n",
              "      <td>347.320000</td>\n",
              "      <td>571.952000</td>\n",
              "      <td>18.000000</td>\n",
              "      <td>9.148000</td>\n",
              "      <td>6.439000</td>\n",
              "      <td>2.500000</td>\n",
              "      <td>11.000000</td>\n",
              "      <td>11.000000</td>\n",
              "      <td>10.047000</td>\n",
              "    </tr>\n",
              "  </tbody>\n",
              "</table>\n",
              "</div>"
            ],
            "text/plain": [
              "             TPSA       SAacc  ...       C-040  quantitive response\n",
              "count  546.000000  546.000000  ...  546.000000           546.000000\n",
              "mean    48.472930   58.869018  ...    0.353480             4.658421\n",
              "std     46.763983   68.166554  ...    0.806827             1.665215\n",
              "min      0.000000    0.000000  ...    0.000000             0.122000\n",
              "25%     15.790000   11.000000  ...    0.000000             3.601500\n",
              "50%     40.460000   42.683000  ...    0.000000             4.516000\n",
              "75%     70.022500   77.492750  ...    0.000000             5.607500\n",
              "max    347.320000  571.952000  ...   11.000000            10.047000\n",
              "\n",
              "[8 rows x 9 columns]"
            ]
          },
          "metadata": {
            "tags": []
          },
          "execution_count": 29
        }
      ]
    },
    {
      "cell_type": "markdown",
      "metadata": {
        "id": "DIiEaqZs0u35",
        "colab_type": "text"
      },
      "source": [
        "## Split data"
      ]
    },
    {
      "cell_type": "code",
      "metadata": {
        "id": "cY4cXxVs0Ybt",
        "colab_type": "code",
        "colab": {}
      },
      "source": [
        "x_train, x_test, y_train, y_test = train_test_split(data.drop(axis=0, columns='quantitive response'),\n",
        "                                                   data['quantitive response'],\n",
        "                                                   test_size=0.3)"
      ],
      "execution_count": 0,
      "outputs": []
    },
    {
      "cell_type": "markdown",
      "metadata": {
        "id": "0mcherDs0xmp",
        "colab_type": "text"
      },
      "source": [
        "## Train and test the models"
      ]
    },
    {
      "cell_type": "code",
      "metadata": {
        "id": "G7stB_h60hE1",
        "colab_type": "code",
        "colab": {
          "base_uri": "https://localhost:8080/",
          "height": 85
        },
        "outputId": "20689ff5-0aa4-44fb-ae31-f1f2e1b763b3"
      },
      "source": [
        "lnr = LinearRegression()\n",
        "mlp = MLPRegressor()\n",
        "\n",
        "lnr.fit(x_train, y_train)\n",
        "mlp.fit(x_train, y_train)\n",
        "\n",
        "hasil_lnr = lnr.predict(x_test)\n",
        "hasil_mlp = mlp.predict(x_test)\n",
        "\n",
        "print(\"Mead Squared Error Linear Regression : \" ,mean_squared_error(y_test, hasil_lnr))\n",
        "print(\"Mead Squared Error Multilayer Perceptron : \" ,mean_squared_error(y_test, hasil_mlp))"
      ],
      "execution_count": 19,
      "outputs": [
        {
          "output_type": "stream",
          "text": [
            "Mead Squared Error Linear Regression :  1.2413777151030616\n",
            "Mead Squared Error Multilayer Perceptron :  1.3617861820538901\n"
          ],
          "name": "stdout"
        },
        {
          "output_type": "stream",
          "text": [
            "/usr/local/lib/python3.6/dist-packages/sklearn/neural_network/_multilayer_perceptron.py:571: ConvergenceWarning: Stochastic Optimizer: Maximum iterations (200) reached and the optimization hasn't converged yet.\n",
            "  % self.max_iter, ConvergenceWarning)\n"
          ],
          "name": "stderr"
        }
      ]
    },
    {
      "cell_type": "code",
      "metadata": {
        "id": "u6_YPGI50jUQ",
        "colab_type": "code",
        "colab": {
          "base_uri": "https://localhost:8080/",
          "height": 282
        },
        "outputId": "707a12bb-a391-47c4-e432-af1fced9e23c"
      },
      "source": [
        "plt.plot(list(hasil_lnr), label='Linear Regression')\n",
        "plt.plot(list(y_test), label='Actual Value')\n",
        "\n",
        "plt.legend(loc=\"upper right\")"
      ],
      "execution_count": 20,
      "outputs": [
        {
          "output_type": "execute_result",
          "data": {
            "text/plain": [
              "<matplotlib.legend.Legend at 0x7fb6403b96a0>"
            ]
          },
          "metadata": {
            "tags": []
          },
          "execution_count": 20
        },
        {
          "output_type": "display_data",
          "data": {
            "image/png": "[encoded data removed]",
            "text/plain": [
              "<Figure size 432x288 with 1 Axes>"
            ]
          },
          "metadata": {
            "tags": []
          }
        }
      ]
    },
    {
      "cell_type": "code",
      "metadata": {
        "id": "78yexy_P0l-P",
        "colab_type": "code",
        "colab": {
          "base_uri": "https://localhost:8080/",
          "height": 282
        },
        "outputId": "16642821-b118-41f0-8cb2-a703b1f50b8a"
      },
      "source": [
        "plt.plot(list(hasil_mlp), label='Multilayer Perceptron')\n",
        "plt.plot(list(y_test), label='Actual Value')\n",
        "\n",
        "plt.legend(loc=\"upper right\")"
      ],
      "execution_count": 21,
      "outputs": [
        {
          "output_type": "execute_result",
          "data": {
            "text/plain": [
              "<matplotlib.legend.Legend at 0x7fb6400c2748>"
            ]
          },
          "metadata": {
            "tags": []
          },
          "execution_count": 21
        },
        {
          "output_type": "display_data",
          "data": {
            "image/png": "[encoded data removed]",
            "text/plain": [
              "<Figure size 432x288 with 1 Axes>"
            ]
          },
          "metadata": {
            "tags": []
          }
        }
      ]
    },
    {
      "cell_type": "markdown",
      "metadata": {
        "id": "tVXfLCQm09BF",
        "colab_type": "text"
      },
      "source": [
        "<h2>TENSORFLOW PART</h2>"
      ]
    },
    {
      "cell_type": "code",
      "metadata": {
        "id": "4yBcUTBP0oE_",
        "colab_type": "code",
        "colab": {}
      },
      "source": [
        "%tensorflow_version 2.x\n",
        "from tensorflow.keras import Sequential, layers, optimizers"
      ],
      "execution_count": 0,
      "outputs": []
    },
    {
      "cell_type": "markdown",
      "metadata": {
        "id": "2v2wOi-Q36kk",
        "colab_type": "text"
      },
      "source": [
        "## Modeling"
      ]
    },
    {
      "cell_type": "code",
      "metadata": {
        "id": "qupqv7bn1SPz",
        "colab_type": "code",
        "colab": {}
      },
      "source": [
        "def Simple_NN():\n",
        "  model = Sequential([\n",
        "    layers.Dense(8, activation='relu', input_shape=[8]),\n",
        "    layers.Dense(8, activation='relu'),\n",
        "    layers.Dense(1)\n",
        "  ])\n",
        "\n",
        "  optimizer = optimizers.RMSprop(0.001)\n",
        "\n",
        "  model.compile(loss='mse',\n",
        "                optimizer=optimizer,\n",
        "                metrics=['mae', 'mse'])\n",
        "  return model"
      ],
      "execution_count": 0,
      "outputs": []
    },
    {
      "cell_type": "markdown",
      "metadata": {
        "id": "XnyITsRptZ0m",
        "colab_type": "text"
      },
      "source": [
        "Consists of :\n",
        "8 nodes in the input layer\n",
        "8 nodes in hidden layers 1 and 2 along with the activation function used is ReLU also 1 node in the output because this case is regression"
      ]
    },
    {
      "cell_type": "code",
      "metadata": {
        "id": "MxzBbneL1cHn",
        "colab_type": "code",
        "colab": {
          "base_uri": "https://localhost:8080/",
          "height": 255
        },
        "outputId": "4df8be0e-b376-41bd-a146-9a3d8770949a"
      },
      "source": [
        "model = Simple_NN()\n",
        "model.summary()"
      ],
      "execution_count": 24,
      "outputs": [
        {
          "output_type": "stream",
          "text": [
            "Model: \"sequential_1\"\n",
            "_________________________________________________________________\n",
            "Layer (type)                 Output Shape              Param #   \n",
            "=================================================================\n",
            "dense_3 (Dense)              (None, 8)                 72        \n",
            "_________________________________________________________________\n",
            "dense_4 (Dense)              (None, 8)                 72        \n",
            "_________________________________________________________________\n",
            "dense_5 (Dense)              (None, 1)                 9         \n",
            "=================================================================\n",
            "Total params: 153\n",
            "Trainable params: 153\n",
            "Non-trainable params: 0\n",
            "_________________________________________________________________\n"
          ],
          "name": "stdout"
        }
      ]
    },
    {
      "cell_type": "markdown",
      "metadata": {
        "id": "ZdyYRX8b4bf1",
        "colab_type": "text"
      },
      "source": [
        "## Training model"
      ]
    },
    {
      "cell_type": "code",
      "metadata": {
        "id": "7rw60V7W1mfN",
        "colab_type": "code",
        "colab": {
          "base_uri": "https://localhost:8080/",
          "height": 1000
        },
        "outputId": "8656c2a7-ce66-4a83-b33e-ebc52b979fcc"
      },
      "source": [
        "model.fit(x_train, y_train, epochs=100, validation_split = 0.2, verbose=1)"
      ],
      "execution_count": 25,
      "outputs": [
        {
          "output_type": "stream",
          "text": [
            "Epoch 1/100\n",
            "10/10 [==============================] - 0s 26ms/step - loss: 141.0730 - mae: 8.6105 - mse: 145.9619 - val_loss: 126.9364 - val_mae: 7.5360 - val_mse: 116.1334\n",
            "Epoch 2/100\n",
            "10/10 [==============================] - 0s 8ms/step - loss: 106.2819 - mae: 7.0292 - mse: 103.6185 - val_loss: 101.6067 - val_mae: 6.8300 - val_mse: 93.4722\n",
            "Epoch 3/100\n",
            "10/10 [==============================] - 0s 6ms/step - loss: 83.1239 - mae: 6.4344 - mse: 83.2524 - val_loss: 85.2209 - val_mae: 6.0706 - val_mse: 78.5657\n",
            "Epoch 4/100\n",
            "10/10 [==============================] - 0s 7ms/step - loss: 67.5961 - mae: 5.7371 - mse: 66.6710 - val_loss: 68.0152 - val_mae: 5.5333 - val_mse: 63.2673\n",
            "Epoch 5/100\n",
            "10/10 [==============================] - 0s 6ms/step - loss: 54.2696 - mae: 5.1892 - mse: 53.3945 - val_loss: 55.7117 - val_mae: 5.0337 - val_mse: 51.9595\n",
            "Epoch 6/100\n",
            "10/10 [==============================] - 0s 6ms/step - loss: 42.1673 - mae: 4.6828 - mse: 42.5946 - val_loss: 44.2731 - val_mae: 4.5729 - val_mse: 41.5108\n",
            "Epoch 7/100\n",
            "10/10 [==============================] - 0s 6ms/step - loss: 34.8616 - mae: 4.2410 - mse: 34.2110 - val_loss: 33.6392 - val_mae: 4.1316 - val_mse: 31.8549\n",
            "Epoch 8/100\n",
            "10/10 [==============================] - 0s 6ms/step - loss: 27.6713 - mae: 3.8553 - mse: 27.1910 - val_loss: 25.7962 - val_mae: 3.7787 - val_mse: 24.7413\n",
            "Epoch 9/100\n",
            "10/10 [==============================] - 0s 7ms/step - loss: 21.4681 - mae: 3.5083 - mse: 21.2019 - val_loss: 20.3491 - val_mae: 3.3679 - val_mse: 19.3853\n",
            "Epoch 10/100\n",
            "10/10 [==============================] - 0s 5ms/step - loss: 16.2675 - mae: 3.1102 - mse: 16.5569 - val_loss: 16.4784 - val_mae: 2.9847 - val_mse: 15.3812\n",
            "Epoch 11/100\n",
            "10/10 [==============================] - 0s 5ms/step - loss: 12.6829 - mae: 2.7689 - mse: 12.8907 - val_loss: 11.9768 - val_mae: 2.6554 - val_mse: 11.3477\n",
            "Epoch 12/100\n",
            "10/10 [==============================] - 0s 5ms/step - loss: 10.1492 - mae: 2.4909 - mse: 10.1594 - val_loss: 9.8268 - val_mae: 2.3786 - val_mse: 9.1150\n",
            "Epoch 13/100\n",
            "10/10 [==============================] - 0s 6ms/step - loss: 8.3572 - mae: 2.2803 - mse: 8.4139 - val_loss: 7.3314 - val_mae: 2.1229 - val_mse: 7.0775\n",
            "Epoch 14/100\n",
            "10/10 [==============================] - 0s 6ms/step - loss: 6.9549 - mae: 2.1201 - mse: 7.0121 - val_loss: 5.9027 - val_mae: 1.9646 - val_mse: 5.8418\n",
            "Epoch 15/100\n",
            "10/10 [==============================] - 0s 6ms/step - loss: 6.3321 - mae: 1.9999 - mse: 6.4513 - val_loss: 4.9948 - val_mae: 1.8877 - val_mse: 5.1602\n",
            "Epoch 16/100\n",
            "10/10 [==============================] - 0s 6ms/step - loss: 5.5532 - mae: 1.9178 - mse: 5.6088 - val_loss: 4.7088 - val_mae: 1.9329 - val_mse: 5.0750\n",
            "Epoch 17/100\n",
            "10/10 [==============================] - 0s 7ms/step - loss: 5.2891 - mae: 1.8788 - mse: 5.3859 - val_loss: 4.5585 - val_mae: 1.9272 - val_mse: 4.9705\n",
            "Epoch 18/100\n",
            "10/10 [==============================] - 0s 7ms/step - loss: 5.1100 - mae: 1.8268 - mse: 5.1212 - val_loss: 3.8980 - val_mae: 1.6778 - val_mse: 4.0398\n",
            "Epoch 19/100\n",
            "10/10 [==============================] - 0s 6ms/step - loss: 4.8257 - mae: 1.7450 - mse: 4.6730 - val_loss: 3.6776 - val_mae: 1.6147 - val_mse: 3.7236\n",
            "Epoch 20/100\n",
            "10/10 [==============================] - 0s 6ms/step - loss: 4.6665 - mae: 1.7493 - mse: 4.6457 - val_loss: 3.3033 - val_mae: 1.5362 - val_mse: 3.4468\n",
            "Epoch 21/100\n",
            "10/10 [==============================] - 0s 6ms/step - loss: 4.1033 - mae: 1.6582 - mse: 4.2254 - val_loss: 3.0922 - val_mae: 1.4839 - val_mse: 3.1891\n",
            "Epoch 22/100\n",
            "10/10 [==============================] - 0s 6ms/step - loss: 4.0453 - mae: 1.5801 - mse: 3.9433 - val_loss: 4.2895 - val_mae: 1.8736 - val_mse: 4.6537\n",
            "Epoch 23/100\n",
            "10/10 [==============================] - 0s 6ms/step - loss: 3.9673 - mae: 1.5868 - mse: 3.9049 - val_loss: 2.5881 - val_mae: 1.3636 - val_mse: 2.8166\n",
            "Epoch 24/100\n",
            "10/10 [==============================] - 0s 6ms/step - loss: 3.6883 - mae: 1.5276 - mse: 3.6741 - val_loss: 2.4746 - val_mae: 1.3352 - val_mse: 2.7335\n",
            "Epoch 25/100\n",
            "10/10 [==============================] - 0s 5ms/step - loss: 3.3197 - mae: 1.4564 - mse: 3.3412 - val_loss: 2.4409 - val_mae: 1.2718 - val_mse: 2.4629\n",
            "Epoch 26/100\n",
            "10/10 [==============================] - 0s 5ms/step - loss: 3.0634 - mae: 1.3981 - mse: 3.1071 - val_loss: 2.4717 - val_mae: 1.2596 - val_mse: 2.4084\n",
            "Epoch 27/100\n",
            "10/10 [==============================] - 0s 6ms/step - loss: 2.8635 - mae: 1.3643 - mse: 2.9264 - val_loss: 2.6488 - val_mae: 1.2510 - val_mse: 2.4596\n",
            "Epoch 28/100\n",
            "10/10 [==============================] - 0s 6ms/step - loss: 2.8391 - mae: 1.3063 - mse: 2.8099 - val_loss: 3.5109 - val_mae: 1.3274 - val_mse: 3.0172\n",
            "Epoch 29/100\n",
            "10/10 [==============================] - 0s 5ms/step - loss: 2.8171 - mae: 1.3191 - mse: 2.7839 - val_loss: 1.9704 - val_mae: 1.1276 - val_mse: 1.9447\n",
            "Epoch 30/100\n",
            "10/10 [==============================] - 0s 6ms/step - loss: 2.5359 - mae: 1.2397 - mse: 2.5486 - val_loss: 1.7048 - val_mae: 1.0479 - val_mse: 1.7536\n",
            "Epoch 31/100\n",
            "10/10 [==============================] - 0s 7ms/step - loss: 2.6300 - mae: 1.2692 - mse: 2.6679 - val_loss: 1.6885 - val_mae: 1.0341 - val_mse: 1.7151\n",
            "Epoch 32/100\n",
            "10/10 [==============================] - 0s 6ms/step - loss: 2.4783 - mae: 1.2149 - mse: 2.5242 - val_loss: 1.5605 - val_mae: 0.9927 - val_mse: 1.6848\n",
            "Epoch 33/100\n",
            "10/10 [==============================] - 0s 6ms/step - loss: 2.4481 - mae: 1.1888 - mse: 2.4085 - val_loss: 2.3577 - val_mae: 1.1833 - val_mse: 2.4510\n",
            "Epoch 34/100\n",
            "10/10 [==============================] - 0s 5ms/step - loss: 2.3749 - mae: 1.1668 - mse: 2.3415 - val_loss: 1.7564 - val_mae: 1.0428 - val_mse: 1.8777\n",
            "Epoch 35/100\n",
            "10/10 [==============================] - 0s 5ms/step - loss: 2.3472 - mae: 1.1490 - mse: 2.2996 - val_loss: 3.0545 - val_mae: 1.2125 - val_mse: 2.5894\n",
            "Epoch 36/100\n",
            "10/10 [==============================] - 0s 6ms/step - loss: 2.1871 - mae: 1.1087 - mse: 2.1548 - val_loss: 1.4054 - val_mae: 0.9526 - val_mse: 1.4238\n",
            "Epoch 37/100\n",
            "10/10 [==============================] - 0s 6ms/step - loss: 2.0900 - mae: 1.0920 - mse: 2.1000 - val_loss: 1.4213 - val_mae: 0.9329 - val_mse: 1.4082\n",
            "Epoch 38/100\n",
            "10/10 [==============================] - 0s 5ms/step - loss: 2.2124 - mae: 1.1408 - mse: 2.2711 - val_loss: 1.5923 - val_mae: 0.9876 - val_mse: 1.5030\n",
            "Epoch 39/100\n",
            "10/10 [==============================] - 0s 5ms/step - loss: 2.1754 - mae: 1.0942 - mse: 2.1567 - val_loss: 1.7217 - val_mae: 1.0190 - val_mse: 1.5892\n",
            "Epoch 40/100\n",
            "10/10 [==============================] - 0s 6ms/step - loss: 1.9222 - mae: 1.0671 - mse: 1.9592 - val_loss: 1.4001 - val_mae: 0.9360 - val_mse: 1.4571\n",
            "Epoch 41/100\n",
            "10/10 [==============================] - 0s 6ms/step - loss: 2.1542 - mae: 1.0855 - mse: 2.1011 - val_loss: 1.6690 - val_mae: 0.9998 - val_mse: 1.5370\n",
            "Epoch 42/100\n",
            "10/10 [==============================] - 0s 6ms/step - loss: 2.0878 - mae: 1.0992 - mse: 2.0626 - val_loss: 1.4554 - val_mae: 0.9517 - val_mse: 1.5104\n",
            "Epoch 43/100\n",
            "10/10 [==============================] - 0s 5ms/step - loss: 2.1430 - mae: 1.0916 - mse: 2.0917 - val_loss: 1.5834 - val_mae: 0.9787 - val_mse: 1.4637\n",
            "Epoch 44/100\n",
            "10/10 [==============================] - 0s 6ms/step - loss: 2.0994 - mae: 1.0667 - mse: 1.9907 - val_loss: 1.4172 - val_mae: 0.9430 - val_mse: 1.4857\n",
            "Epoch 45/100\n",
            "10/10 [==============================] - 0s 5ms/step - loss: 1.9306 - mae: 1.0623 - mse: 1.9684 - val_loss: 1.3398 - val_mae: 0.9259 - val_mse: 1.4178\n",
            "Epoch 46/100\n",
            "10/10 [==============================] - 0s 6ms/step - loss: 2.0560 - mae: 1.1169 - mse: 2.1116 - val_loss: 1.5938 - val_mae: 0.9876 - val_mse: 1.6293\n",
            "Epoch 47/100\n",
            "10/10 [==============================] - 0s 6ms/step - loss: 1.9491 - mae: 1.0786 - mse: 1.9768 - val_loss: 1.5872 - val_mae: 0.9775 - val_mse: 1.4579\n",
            "Epoch 48/100\n",
            "10/10 [==============================] - 0s 6ms/step - loss: 1.9522 - mae: 1.0578 - mse: 1.9689 - val_loss: 1.3947 - val_mae: 0.9445 - val_mse: 1.3335\n",
            "Epoch 49/100\n",
            "10/10 [==============================] - 0s 5ms/step - loss: 1.9948 - mae: 1.0834 - mse: 2.0443 - val_loss: 1.5849 - val_mae: 0.9864 - val_mse: 1.4586\n",
            "Epoch 50/100\n",
            "10/10 [==============================] - 0s 5ms/step - loss: 1.8774 - mae: 1.0432 - mse: 1.9160 - val_loss: 1.2862 - val_mae: 0.9146 - val_mse: 1.3382\n",
            "Epoch 51/100\n",
            "10/10 [==============================] - 0s 6ms/step - loss: 2.1744 - mae: 1.1187 - mse: 2.1325 - val_loss: 1.3559 - val_mae: 0.8938 - val_mse: 1.2856\n",
            "Epoch 52/100\n",
            "10/10 [==============================] - 0s 5ms/step - loss: 1.9627 - mae: 1.0438 - mse: 1.9094 - val_loss: 1.4739 - val_mae: 0.9476 - val_mse: 1.4675\n",
            "Epoch 53/100\n",
            "10/10 [==============================] - 0s 5ms/step - loss: 1.8866 - mae: 1.0479 - mse: 1.8866 - val_loss: 1.3387 - val_mae: 0.8916 - val_mse: 1.3019\n",
            "Epoch 54/100\n",
            "10/10 [==============================] - 0s 5ms/step - loss: 1.8998 - mae: 1.0537 - mse: 1.9219 - val_loss: 1.6370 - val_mae: 0.9819 - val_mse: 1.5927\n",
            "Epoch 55/100\n",
            "10/10 [==============================] - 0s 6ms/step - loss: 2.0116 - mae: 1.0702 - mse: 2.0231 - val_loss: 1.3085 - val_mae: 0.9153 - val_mse: 1.3356\n",
            "Epoch 56/100\n",
            "10/10 [==============================] - 0s 6ms/step - loss: 1.9008 - mae: 1.0536 - mse: 1.8843 - val_loss: 2.0701 - val_mae: 1.0787 - val_mse: 2.0105\n",
            "Epoch 57/100\n",
            "10/10 [==============================] - 0s 6ms/step - loss: 2.0065 - mae: 1.0911 - mse: 2.0365 - val_loss: 1.3545 - val_mae: 0.9028 - val_mse: 1.2850\n",
            "Epoch 58/100\n",
            "10/10 [==============================] - 0s 6ms/step - loss: 1.9462 - mae: 1.0546 - mse: 1.8928 - val_loss: 1.3470 - val_mae: 0.9309 - val_mse: 1.2884\n",
            "Epoch 59/100\n",
            "10/10 [==============================] - 0s 6ms/step - loss: 2.0067 - mae: 1.0764 - mse: 2.0378 - val_loss: 1.2836 - val_mae: 0.8895 - val_mse: 1.2554\n",
            "Epoch 60/100\n",
            "10/10 [==============================] - 0s 6ms/step - loss: 1.9270 - mae: 1.0383 - mse: 1.8636 - val_loss: 1.7669 - val_mae: 1.0215 - val_mse: 1.7540\n",
            "Epoch 61/100\n",
            "10/10 [==============================] - 0s 5ms/step - loss: 1.7691 - mae: 1.0077 - mse: 1.7920 - val_loss: 1.4093 - val_mae: 0.9270 - val_mse: 1.3786\n",
            "Epoch 62/100\n",
            "10/10 [==============================] - 0s 6ms/step - loss: 2.1410 - mae: 1.1056 - mse: 2.1280 - val_loss: 1.5270 - val_mae: 0.9627 - val_mse: 1.3897\n",
            "Epoch 63/100\n",
            "10/10 [==============================] - 0s 6ms/step - loss: 1.8372 - mae: 1.0194 - mse: 1.7965 - val_loss: 1.2787 - val_mae: 0.8937 - val_mse: 1.2697\n",
            "Epoch 64/100\n",
            "10/10 [==============================] - 0s 6ms/step - loss: 2.1918 - mae: 1.1025 - mse: 2.2250 - val_loss: 1.3217 - val_mae: 0.8783 - val_mse: 1.2565\n",
            "Epoch 65/100\n",
            "10/10 [==============================] - 0s 6ms/step - loss: 1.8642 - mae: 1.0398 - mse: 1.8242 - val_loss: 1.3025 - val_mae: 0.8965 - val_mse: 1.2846\n",
            "Epoch 66/100\n",
            "10/10 [==============================] - 0s 6ms/step - loss: 1.8073 - mae: 1.0164 - mse: 1.8402 - val_loss: 2.5208 - val_mae: 1.1332 - val_mse: 2.3309\n",
            "Epoch 67/100\n",
            "10/10 [==============================] - 0s 5ms/step - loss: 2.2497 - mae: 1.1310 - mse: 2.2536 - val_loss: 1.3080 - val_mae: 0.8956 - val_mse: 1.2484\n",
            "Epoch 68/100\n",
            "10/10 [==============================] - 0s 6ms/step - loss: 1.9411 - mae: 1.0421 - mse: 1.8641 - val_loss: 2.2999 - val_mae: 1.1077 - val_mse: 2.1947\n",
            "Epoch 69/100\n",
            "10/10 [==============================] - 0s 6ms/step - loss: 1.8823 - mae: 1.0412 - mse: 1.8940 - val_loss: 2.0836 - val_mae: 1.0643 - val_mse: 2.0006\n",
            "Epoch 70/100\n",
            "10/10 [==============================] - 0s 7ms/step - loss: 1.9020 - mae: 1.0417 - mse: 1.8617 - val_loss: 1.7832 - val_mae: 1.0259 - val_mse: 1.5789\n",
            "Epoch 71/100\n",
            "10/10 [==============================] - 0s 6ms/step - loss: 2.0930 - mae: 1.0847 - mse: 2.0942 - val_loss: 1.3807 - val_mae: 0.9317 - val_mse: 1.2960\n",
            "Epoch 72/100\n",
            "10/10 [==============================] - 0s 6ms/step - loss: 1.7720 - mae: 1.0195 - mse: 1.8056 - val_loss: 1.2847 - val_mae: 0.9041 - val_mse: 1.2469\n",
            "Epoch 73/100\n",
            "10/10 [==============================] - 0s 6ms/step - loss: 1.9780 - mae: 1.0617 - mse: 1.9618 - val_loss: 1.9819 - val_mae: 1.0418 - val_mse: 1.8916\n",
            "Epoch 74/100\n",
            "10/10 [==============================] - 0s 8ms/step - loss: 1.8362 - mae: 1.0484 - mse: 1.8622 - val_loss: 1.2473 - val_mae: 0.8809 - val_mse: 1.2208\n",
            "Epoch 75/100\n",
            "10/10 [==============================] - 0s 7ms/step - loss: 1.8749 - mae: 1.0541 - mse: 1.9036 - val_loss: 2.4235 - val_mae: 1.1357 - val_mse: 2.0895\n",
            "Epoch 76/100\n",
            "10/10 [==============================] - 0s 7ms/step - loss: 2.0590 - mae: 1.0641 - mse: 1.9954 - val_loss: 3.4941 - val_mae: 1.2714 - val_mse: 2.9120\n",
            "Epoch 77/100\n",
            "10/10 [==============================] - 0s 7ms/step - loss: 1.9470 - mae: 1.0631 - mse: 1.9182 - val_loss: 1.6562 - val_mae: 0.9774 - val_mse: 1.6159\n",
            "Epoch 78/100\n",
            "10/10 [==============================] - 0s 7ms/step - loss: 1.7886 - mae: 0.9986 - mse: 1.7843 - val_loss: 1.8344 - val_mae: 1.0434 - val_mse: 1.6345\n",
            "Epoch 79/100\n",
            "10/10 [==============================] - 0s 6ms/step - loss: 1.8835 - mae: 1.0410 - mse: 1.8734 - val_loss: 1.4156 - val_mae: 0.9165 - val_mse: 1.3765\n",
            "Epoch 80/100\n",
            "10/10 [==============================] - 0s 6ms/step - loss: 2.0469 - mae: 1.0324 - mse: 1.9892 - val_loss: 1.5469 - val_mae: 0.9859 - val_mse: 1.4211\n",
            "Epoch 81/100\n",
            "10/10 [==============================] - 0s 5ms/step - loss: 1.7597 - mae: 1.0044 - mse: 1.7374 - val_loss: 1.2111 - val_mae: 0.8742 - val_mse: 1.2068\n",
            "Epoch 82/100\n",
            "10/10 [==============================] - 0s 6ms/step - loss: 1.8611 - mae: 1.0363 - mse: 1.8834 - val_loss: 1.3040 - val_mae: 0.8961 - val_mse: 1.2798\n",
            "Epoch 83/100\n",
            "10/10 [==============================] - 0s 6ms/step - loss: 1.7753 - mae: 1.0237 - mse: 1.8077 - val_loss: 1.4720 - val_mae: 0.9267 - val_mse: 1.4291\n",
            "Epoch 84/100\n",
            "10/10 [==============================] - 0s 6ms/step - loss: 2.0305 - mae: 1.0614 - mse: 2.0499 - val_loss: 1.2806 - val_mae: 0.8889 - val_mse: 1.2683\n",
            "Epoch 85/100\n",
            "10/10 [==============================] - 0s 5ms/step - loss: 1.8122 - mae: 1.0272 - mse: 1.8249 - val_loss: 1.5068 - val_mae: 0.9277 - val_mse: 1.4432\n",
            "Epoch 86/100\n",
            "10/10 [==============================] - 0s 5ms/step - loss: 1.9934 - mae: 1.0786 - mse: 2.0108 - val_loss: 1.2875 - val_mae: 0.8761 - val_mse: 1.2384\n",
            "Epoch 87/100\n",
            "10/10 [==============================] - 0s 5ms/step - loss: 1.8074 - mae: 1.0332 - mse: 1.8049 - val_loss: 1.4055 - val_mae: 0.9417 - val_mse: 1.3113\n",
            "Epoch 88/100\n",
            "10/10 [==============================] - 0s 5ms/step - loss: 1.9978 - mae: 1.0574 - mse: 2.0021 - val_loss: 1.2038 - val_mae: 0.8666 - val_mse: 1.1972\n",
            "Epoch 89/100\n",
            "10/10 [==============================] - 0s 5ms/step - loss: 1.7382 - mae: 0.9995 - mse: 1.7315 - val_loss: 1.6850 - val_mae: 1.0146 - val_mse: 1.5207\n",
            "Epoch 90/100\n",
            "10/10 [==============================] - 0s 5ms/step - loss: 1.8982 - mae: 1.0251 - mse: 1.8057 - val_loss: 1.4709 - val_mae: 0.9232 - val_mse: 1.4263\n",
            "Epoch 91/100\n",
            "10/10 [==============================] - 0s 6ms/step - loss: 1.9957 - mae: 1.0619 - mse: 2.0302 - val_loss: 1.8669 - val_mae: 1.0511 - val_mse: 1.6582\n",
            "Epoch 92/100\n",
            "10/10 [==============================] - 0s 5ms/step - loss: 1.8492 - mae: 1.0323 - mse: 1.8261 - val_loss: 1.4161 - val_mae: 0.9026 - val_mse: 1.3690\n",
            "Epoch 93/100\n",
            "10/10 [==============================] - 0s 6ms/step - loss: 1.8597 - mae: 1.0209 - mse: 1.7646 - val_loss: 1.2621 - val_mae: 0.8825 - val_mse: 1.2655\n",
            "Epoch 94/100\n",
            "10/10 [==============================] - 0s 7ms/step - loss: 1.8810 - mae: 1.0383 - mse: 1.9007 - val_loss: 1.2662 - val_mae: 0.8759 - val_mse: 1.2214\n",
            "Epoch 95/100\n",
            "10/10 [==============================] - 0s 6ms/step - loss: 1.9331 - mae: 1.0469 - mse: 1.9271 - val_loss: 1.3245 - val_mae: 0.8945 - val_mse: 1.2997\n",
            "Epoch 96/100\n",
            "10/10 [==============================] - 0s 6ms/step - loss: 1.9154 - mae: 1.0429 - mse: 1.8712 - val_loss: 1.3623 - val_mae: 0.8918 - val_mse: 1.2761\n",
            "Epoch 97/100\n",
            "10/10 [==============================] - 0s 6ms/step - loss: 1.8091 - mae: 1.0170 - mse: 1.7683 - val_loss: 2.1891 - val_mae: 1.0523 - val_mse: 2.0109\n",
            "Epoch 98/100\n",
            "10/10 [==============================] - 0s 5ms/step - loss: 1.9558 - mae: 1.0852 - mse: 2.0174 - val_loss: 1.2906 - val_mae: 0.8797 - val_mse: 1.2344\n",
            "Epoch 99/100\n",
            "10/10 [==============================] - 0s 5ms/step - loss: 1.7963 - mae: 1.0263 - mse: 1.8185 - val_loss: 1.3048 - val_mae: 0.8785 - val_mse: 1.2701\n",
            "Epoch 100/100\n",
            "10/10 [==============================] - 0s 5ms/step - loss: 1.7136 - mae: 1.0117 - mse: 1.7410 - val_loss: 1.2963 - val_mae: 0.8812 - val_mse: 1.2456\n"
          ],
          "name": "stdout"
        },
        {
          "output_type": "execute_result",
          "data": {
            "text/plain": [
              "<tensorflow.python.keras.callbacks.History at 0x7fb640097080>"
            ]
          },
          "metadata": {
            "tags": []
          },
          "execution_count": 25
        }
      ]
    },
    {
      "cell_type": "markdown",
      "metadata": {
        "id": "7nwNCbyU4hf4",
        "colab_type": "text"
      },
      "source": [
        "## Using model to predict the <b>x_test</b>"
      ]
    },
    {
      "cell_type": "code",
      "metadata": {
        "id": "tQV3-irl2eGD",
        "colab_type": "code",
        "colab": {
          "base_uri": "https://localhost:8080/",
          "height": 578
        },
        "outputId": "b517f531-1212-47e6-b319-0dd7d4a027b9"
      },
      "source": [
        "hasil_tf = model.predict(x_test)\n",
        "\n",
        "# HASIL PREDIKSI\n",
        "hasil_tf.ravel()"
      ],
      "execution_count": 26,
      "outputs": [
        {
          "output_type": "execute_result",
          "data": {
            "text/plain": [
              "array([ 4.7949767,  5.128289 ,  4.98638  ,  6.6600437,  3.7127714,\n",
              "        6.052859 ,  6.456508 ,  3.7442138,  4.5975523,  0.7132771,\n",
              "        3.4009037,  6.5422997,  3.9025586,  4.487852 ,  3.5740073,\n",
              "        4.3707924,  7.7371235, 11.32973  ,  4.228369 ,  5.7237353,\n",
              "        4.5572453,  4.5277414,  5.1677456,  5.682678 ,  5.0145636,\n",
              "        2.5405107,  3.867102 ,  2.8707588,  4.2771564,  5.2900405,\n",
              "        3.6550634,  4.148153 ,  6.1891823,  6.8103986,  5.424333 ,\n",
              "        2.597266 ,  4.39452  ,  2.2668402,  6.040803 ,  3.608735 ,\n",
              "        4.769888 ,  4.1161413,  3.9351425,  3.2954051,  5.9755483,\n",
              "        3.2829192,  5.9490585,  3.564507 ,  3.476902 ,  4.216791 ,\n",
              "        3.3712018,  5.1269116,  4.2000995,  5.727246 ,  4.025886 ,\n",
              "        5.8182707,  3.0860531,  5.7561026,  5.1008997,  4.4494534,\n",
              "        3.9007905,  5.4737506,  3.438226 ,  2.8134587,  5.3843527,\n",
              "        6.705077 ,  4.280238 ,  3.8952887,  3.6472638,  4.0200453,\n",
              "        4.9011   ,  4.739975 ,  3.6142704,  4.410062 ,  3.9411404,\n",
              "        3.2236092,  4.8342   ,  4.2824373,  6.017983 ,  3.875106 ,\n",
              "        3.6072805,  4.470933 ,  4.1568775,  5.699009 ,  4.3458047,\n",
              "        6.8879385,  4.2250586,  5.6035895,  6.0102882,  4.710242 ,\n",
              "        3.7837727,  4.371826 ,  4.372615 ,  4.486306 ,  3.5689552,\n",
              "        4.5909557,  3.8740556,  5.254821 ,  4.5389357,  4.016334 ,\n",
              "        7.06833  ,  3.8859813,  6.6056547,  3.1186888,  5.624795 ,\n",
              "        4.388816 ,  2.8599489,  3.5523121,  4.706079 ,  4.4942894,\n",
              "        4.911332 ,  3.9499946,  3.7025988,  6.2989807,  5.712287 ,\n",
              "        4.2663527,  4.407609 ,  4.7245693,  4.7917147,  4.3151693,\n",
              "        3.3392336,  5.1642747,  6.6938596,  3.929924 ,  3.9172814,\n",
              "        5.7488046,  6.338151 ,  6.226487 ,  2.853141 ,  6.771677 ,\n",
              "        4.4782925,  5.5339804,  5.436207 ,  5.173747 ,  3.161211 ,\n",
              "        2.096738 ,  3.5673137,  7.151842 ,  2.5911677,  5.203686 ,\n",
              "        5.4152403,  4.631278 ,  3.363932 ,  5.8407693,  3.002587 ,\n",
              "        3.9643404,  6.924243 ,  6.7189183,  1.9926674,  4.5287333,\n",
              "        7.484569 ,  6.61831  ,  3.44021  ,  4.0086412,  7.2509594,\n",
              "        5.85249  ,  6.6495113,  3.8456612,  2.5422122,  4.239397 ,\n",
              "        7.060138 ,  4.8912315,  7.078083 ,  5.210335 ], dtype=float32)"
            ]
          },
          "metadata": {
            "tags": []
          },
          "execution_count": 26
        }
      ]
    },
    {
      "cell_type": "markdown",
      "metadata": {
        "id": "Wg98nF9C4veP",
        "colab_type": "text"
      },
      "source": [
        "## Evaluate the model using <b>mean squared error</b>"
      ]
    },
    {
      "cell_type": "code",
      "metadata": {
        "id": "AePLgFIQ22DX",
        "colab_type": "code",
        "colab": {
          "base_uri": "https://localhost:8080/",
          "height": 34
        },
        "outputId": "3c2ec3db-f16e-456b-9093-59696c36a67d"
      },
      "source": [
        "mean_squared_error(y_test, hasil_tf)"
      ],
      "execution_count": 27,
      "outputs": [
        {
          "output_type": "execute_result",
          "data": {
            "text/plain": [
              "1.4392438071994318"
            ]
          },
          "metadata": {
            "tags": []
          },
          "execution_count": 27
        }
      ]
    },
    {
      "cell_type": "markdown",
      "metadata": {
        "id": "bySRKQ1FuprJ",
        "colab_type": "text"
      },
      "source": [
        "Getting smaller the MSE of a model, getting better model in predicting"
      ]
    },
    {
      "cell_type": "markdown",
      "metadata": {
        "id": "FlpkhTv_5KMs",
        "colab_type": "text"
      },
      "source": [
        "## Line chart"
      ]
    },
    {
      "cell_type": "code",
      "metadata": {
        "id": "d-r3sYsW3hDm",
        "colab_type": "code",
        "colab": {
          "base_uri": "https://localhost:8080/",
          "height": 282
        },
        "outputId": "e5fc4b78-ed90-4df4-cc95-355a363e472f"
      },
      "source": [
        "plt.plot(list(hasil_tf), label='Tensorflow')\n",
        "plt.plot(list(y_test), label='Actual Value')\n",
        "\n",
        "plt.legend(loc=\"upper right\")"
      ],
      "execution_count": 28,
      "outputs": [
        {
          "output_type": "execute_result",
          "data": {
            "text/plain": [
              "<matplotlib.legend.Legend at 0x7fb640590588>"
            ]
          },
          "metadata": {
            "tags": []
          },
          "execution_count": 28
        },
        {
          "output_type": "display_data",
          "data": {
            "image/png": "[encoded data removed]",
            "text/plain": [
              "<Figure size 432x288 with 1 Axes>"
            ]
          },
          "metadata": {
            "tags": []
          }
        }
      ]
    }
  ]
}