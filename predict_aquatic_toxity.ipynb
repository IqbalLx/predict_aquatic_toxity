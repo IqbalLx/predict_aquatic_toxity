{
  "nbformat": 4,
  "nbformat_minor": 0,
  "metadata": {
    "colab": {
      "name": "predict_aquatic_toxity.ipynb",
      "provenance": [],
      "collapsed_sections": [],
      "include_colab_link": true
    },
    "kernelspec": {
      "name": "python3",
      "display_name": "Python 3"
    },
    "accelerator": "GPU"
  },
  "cells": [
    {
      "cell_type": "markdown",
      "metadata": {
        "id": "view-in-github",
        "colab_type": "text"
      },
      "source": [
        "<a href=\"https://colab.research.google.com/github/chilaact/predict_aquatic_toxity/blob/master/predict_aquatic_toxity.ipynb\" target=\"_parent\"><img src=\"https://colab.research.google.com/assets/colab-badge.svg\" alt=\"Open In Colab\"/></a>"
      ]
    },
    {
      "cell_type": "markdown",
      "metadata": {
        "id": "W5QsI7ZTiNyj",
        "colab_type": "text"
      },
      "source": [
        "# Prediction of Aquatic Toxity using TensorFlow"
      ]
    },
    {
      "cell_type": "markdown",
      "metadata": {
        "id": "7TXqaMLrssmV",
        "colab_type": "text"
      },
      "source": [
        "Mount drive"
      ]
    },
    {
      "cell_type": "code",
      "metadata": {
        "id": "ltt2lHejVcjF",
        "colab_type": "code",
        "outputId": "bfe53ae4-0104-494b-9c48-ec5342721b66",
        "colab": {
          "base_uri": "https://localhost:8080/",
          "height": 122
        }
      },
      "source": [
        "from google.colab import drive\n",
        "drive.mount('/content/drive')"
      ],
      "execution_count": 1,
      "outputs": [
        {
          "output_type": "stream",
          "text": [
            "Go to this URL in a browser: https://accounts.google.com/o/oauth2/auth?client_id=947318989803-6bn6qk8qdgf4n4g3pfee6491hc0brc4i.apps.googleusercontent.com&redirect_uri=urn%3aietf%3awg%3aoauth%3a2.0%3aoob&response_type=code&scope=email%20https%3a%2f%2fwww.googleapis.com%2fauth%2fdocs.test%20https%3a%2f%2fwww.googleapis.com%2fauth%2fdrive%20https%3a%2f%2fwww.googleapis.com%2fauth%2fdrive.photos.readonly%20https%3a%2f%2fwww.googleapis.com%2fauth%2fpeopleapi.readonly\n",
            "\n",
            "Enter your authorization code:\n",
            "··········\n",
            "Mounted at /content/drive\n"
          ],
          "name": "stdout"
        }
      ]
    },
    {
      "cell_type": "markdown",
      "metadata": {
        "id": "YT1Yfr85sx4d",
        "colab_type": "text"
      },
      "source": [
        "Import libraries"
      ]
    },
    {
      "cell_type": "code",
      "metadata": {
        "id": "JK05KEJF0EbO",
        "colab_type": "code",
        "colab": {}
      },
      "source": [
        "from pandas import read_csv\n",
        "from matplotlib import pyplot as plt\n",
        "\n",
        "from sklearn.model_selection import train_test_split\n",
        "\n",
        "from sklearn.neural_network import MLPRegressor\n",
        "from sklearn.linear_model import LinearRegression\n",
        "\n",
        "from sklearn.metrics import mean_squared_error"
      ],
      "execution_count": 0,
      "outputs": []
    },
    {
      "cell_type": "markdown",
      "metadata": {
        "id": "wWTzFHZK0qGc",
        "colab_type": "text"
      },
      "source": [
        "## Load data"
      ]
    },
    {
      "cell_type": "code",
      "metadata": {
        "id": "sl1L8U360Sdw",
        "colab_type": "code",
        "colab": {
          "base_uri": "https://localhost:8080/",
          "height": 419
        },
        "outputId": "48827022-e0b0-4369-e186-fdab2cc70873"
      },
      "source": [
        "data = read_csv(\"/content/drive/My Drive/Colab Notebooks/task/qsar_aquatic_toxicity.csv\", sep=\";\")\n",
        "data"
      ],
      "execution_count": 3,
      "outputs": [
        {
          "output_type": "execute_result",
          "data": {
            "text/html": [
              "<div>\n",
              "<style scoped>\n",
              "    .dataframe tbody tr th:only-of-type {\n",
              "        vertical-align: middle;\n",
              "    }\n",
              "\n",
              "    .dataframe tbody tr th {\n",
              "        vertical-align: top;\n",
              "    }\n",
              "\n",
              "    .dataframe thead th {\n",
              "        text-align: right;\n",
              "    }\n",
              "</style>\n",
              "<table border=\"1\" class=\"dataframe\">\n",
              "  <thead>\n",
              "    <tr style=\"text-align: right;\">\n",
              "      <th></th>\n",
              "      <th>TPSA</th>\n",
              "      <th>SAacc</th>\n",
              "      <th>H-050</th>\n",
              "      <th>MLOGP</th>\n",
              "      <th>RDCHI</th>\n",
              "      <th>GATS1p</th>\n",
              "      <th>nN</th>\n",
              "      <th>C-040</th>\n",
              "      <th>quantitive response</th>\n",
              "    </tr>\n",
              "  </thead>\n",
              "  <tbody>\n",
              "    <tr>\n",
              "      <th>0</th>\n",
              "      <td>0.00</td>\n",
              "      <td>0.000</td>\n",
              "      <td>0</td>\n",
              "      <td>2.419</td>\n",
              "      <td>1.225</td>\n",
              "      <td>0.667</td>\n",
              "      <td>0</td>\n",
              "      <td>0</td>\n",
              "      <td>3.740</td>\n",
              "    </tr>\n",
              "    <tr>\n",
              "      <th>1</th>\n",
              "      <td>0.00</td>\n",
              "      <td>0.000</td>\n",
              "      <td>0</td>\n",
              "      <td>2.638</td>\n",
              "      <td>1.401</td>\n",
              "      <td>0.632</td>\n",
              "      <td>0</td>\n",
              "      <td>0</td>\n",
              "      <td>4.330</td>\n",
              "    </tr>\n",
              "    <tr>\n",
              "      <th>2</th>\n",
              "      <td>9.23</td>\n",
              "      <td>11.000</td>\n",
              "      <td>0</td>\n",
              "      <td>5.799</td>\n",
              "      <td>2.930</td>\n",
              "      <td>0.486</td>\n",
              "      <td>0</td>\n",
              "      <td>0</td>\n",
              "      <td>7.019</td>\n",
              "    </tr>\n",
              "    <tr>\n",
              "      <th>3</th>\n",
              "      <td>9.23</td>\n",
              "      <td>11.000</td>\n",
              "      <td>0</td>\n",
              "      <td>5.453</td>\n",
              "      <td>2.887</td>\n",
              "      <td>0.495</td>\n",
              "      <td>0</td>\n",
              "      <td>0</td>\n",
              "      <td>6.723</td>\n",
              "    </tr>\n",
              "    <tr>\n",
              "      <th>4</th>\n",
              "      <td>9.23</td>\n",
              "      <td>11.000</td>\n",
              "      <td>0</td>\n",
              "      <td>4.068</td>\n",
              "      <td>2.758</td>\n",
              "      <td>0.695</td>\n",
              "      <td>0</td>\n",
              "      <td>0</td>\n",
              "      <td>5.979</td>\n",
              "    </tr>\n",
              "    <tr>\n",
              "      <th>...</th>\n",
              "      <td>...</td>\n",
              "      <td>...</td>\n",
              "      <td>...</td>\n",
              "      <td>...</td>\n",
              "      <td>...</td>\n",
              "      <td>...</td>\n",
              "      <td>...</td>\n",
              "      <td>...</td>\n",
              "      <td>...</td>\n",
              "    </tr>\n",
              "    <tr>\n",
              "      <th>541</th>\n",
              "      <td>24.06</td>\n",
              "      <td>35.776</td>\n",
              "      <td>2</td>\n",
              "      <td>3.326</td>\n",
              "      <td>2.837</td>\n",
              "      <td>0.849</td>\n",
              "      <td>2</td>\n",
              "      <td>0</td>\n",
              "      <td>4.651</td>\n",
              "    </tr>\n",
              "    <tr>\n",
              "      <th>542</th>\n",
              "      <td>9.23</td>\n",
              "      <td>11.000</td>\n",
              "      <td>0</td>\n",
              "      <td>3.275</td>\n",
              "      <td>2.727</td>\n",
              "      <td>0.874</td>\n",
              "      <td>0</td>\n",
              "      <td>0</td>\n",
              "      <td>3.953</td>\n",
              "    </tr>\n",
              "    <tr>\n",
              "      <th>543</th>\n",
              "      <td>0.00</td>\n",
              "      <td>0.000</td>\n",
              "      <td>0</td>\n",
              "      <td>5.165</td>\n",
              "      <td>3.111</td>\n",
              "      <td>0.732</td>\n",
              "      <td>0</td>\n",
              "      <td>0</td>\n",
              "      <td>6.219</td>\n",
              "    </tr>\n",
              "    <tr>\n",
              "      <th>544</th>\n",
              "      <td>13.14</td>\n",
              "      <td>9.507</td>\n",
              "      <td>0</td>\n",
              "      <td>2.859</td>\n",
              "      <td>2.614</td>\n",
              "      <td>0.827</td>\n",
              "      <td>0</td>\n",
              "      <td>0</td>\n",
              "      <td>4.995</td>\n",
              "    </tr>\n",
              "    <tr>\n",
              "      <th>545</th>\n",
              "      <td>0.00</td>\n",
              "      <td>0.000</td>\n",
              "      <td>0</td>\n",
              "      <td>2.255</td>\n",
              "      <td>1.800</td>\n",
              "      <td>0.917</td>\n",
              "      <td>0</td>\n",
              "      <td>0</td>\n",
              "      <td>2.480</td>\n",
              "    </tr>\n",
              "  </tbody>\n",
              "</table>\n",
              "<p>546 rows × 9 columns</p>\n",
              "</div>"
            ],
            "text/plain": [
              "      TPSA   SAacc  H-050  MLOGP  RDCHI  GATS1p  nN  C-040  quantitive response\n",
              "0     0.00   0.000      0  2.419  1.225   0.667   0      0                3.740\n",
              "1     0.00   0.000      0  2.638  1.401   0.632   0      0                4.330\n",
              "2     9.23  11.000      0  5.799  2.930   0.486   0      0                7.019\n",
              "3     9.23  11.000      0  5.453  2.887   0.495   0      0                6.723\n",
              "4     9.23  11.000      0  4.068  2.758   0.695   0      0                5.979\n",
              "..     ...     ...    ...    ...    ...     ...  ..    ...                  ...\n",
              "541  24.06  35.776      2  3.326  2.837   0.849   2      0                4.651\n",
              "542   9.23  11.000      0  3.275  2.727   0.874   0      0                3.953\n",
              "543   0.00   0.000      0  5.165  3.111   0.732   0      0                6.219\n",
              "544  13.14   9.507      0  2.859  2.614   0.827   0      0                4.995\n",
              "545   0.00   0.000      0  2.255  1.800   0.917   0      0                2.480\n",
              "\n",
              "[546 rows x 9 columns]"
            ]
          },
          "metadata": {
            "tags": []
          },
          "execution_count": 3
        }
      ]
    },
    {
      "cell_type": "markdown",
      "metadata": {
        "id": "QXFL0FXFtHlP",
        "colab_type": "text"
      },
      "source": [
        "dataset from https://archive.ics.uci.edu/ml/datasets/QSAR+aquatic+toxicity"
      ]
    },
    {
      "cell_type": "markdown",
      "metadata": {
        "id": "DIiEaqZs0u35",
        "colab_type": "text"
      },
      "source": [
        "## Split data"
      ]
    },
    {
      "cell_type": "code",
      "metadata": {
        "id": "cY4cXxVs0Ybt",
        "colab_type": "code",
        "colab": {}
      },
      "source": [
        "x_train, x_test, y_train, y_test = train_test_split(data.drop(axis=0, columns='quantitive response'),\n",
        "                                                   data['quantitive response'],\n",
        "                                                   test_size=0.3)"
      ],
      "execution_count": 0,
      "outputs": []
    },
    {
      "cell_type": "markdown",
      "metadata": {
        "id": "0mcherDs0xmp",
        "colab_type": "text"
      },
      "source": [
        "## Train and test the models"
      ]
    },
    {
      "cell_type": "code",
      "metadata": {
        "id": "G7stB_h60hE1",
        "colab_type": "code",
        "colab": {
          "base_uri": "https://localhost:8080/",
          "height": 105
        },
        "outputId": "9dfc97df-6414-4d6a-b5fb-4be48c2113e7"
      },
      "source": [
        "lnr = LinearRegression()\n",
        "mlp = MLPRegressor()\n",
        "\n",
        "lnr.fit(x_train, y_train)\n",
        "mlp.fit(x_train, y_train)\n",
        "\n",
        "hasil_lnr = lnr.predict(x_test)\n",
        "hasil_mlp = mlp.predict(x_test)\n",
        "\n",
        "print(\"Mead Squared Error Linear Regression : \" ,mean_squared_error(y_test, hasil_lnr))\n",
        "print(\"Mead Squared Error Multilayer Perceptron : \" ,mean_squared_error(y_test, hasil_mlp))"
      ],
      "execution_count": 5,
      "outputs": [
        {
          "output_type": "stream",
          "text": [
            "Mead Squared Error Linear Regression :  1.4069986822386589\n",
            "Mead Squared Error Multilayer Perceptron :  1.5740826096910534\n"
          ],
          "name": "stdout"
        },
        {
          "output_type": "stream",
          "text": [
            "/usr/local/lib/python3.6/dist-packages/sklearn/neural_network/_multilayer_perceptron.py:571: ConvergenceWarning: Stochastic Optimizer: Maximum iterations (200) reached and the optimization hasn't converged yet.\n",
            "  % self.max_iter, ConvergenceWarning)\n"
          ],
          "name": "stderr"
        }
      ]
    },
    {
      "cell_type": "code",
      "metadata": {
        "id": "u6_YPGI50jUQ",
        "colab_type": "code",
        "outputId": "43e0f541-e10d-4722-cab2-0dc698f5f86b",
        "colab": {
          "base_uri": "https://localhost:8080/",
          "height": 282
        }
      },
      "source": [
        "plt.plot(list(hasil_lnr), label='Linear Regression')\n",
        "plt.plot(list(y_test), label='Nilai Asli')\n",
        "\n",
        "plt.legend(loc=\"upper right\")"
      ],
      "execution_count": 6,
      "outputs": [
        {
          "output_type": "execute_result",
          "data": {
            "text/plain": [
              "<matplotlib.legend.Legend at 0x7f5979cac668>"
            ]
          },
          "metadata": {
            "tags": []
          },
          "execution_count": 6
        },
        {
          "output_type": "display_data",
          "data": {
            "image/png": "[encoded data removed]",
            "text/plain": [
              "<Figure size 432x288 with 1 Axes>"
            ]
          },
          "metadata": {
            "tags": []
          }
        }
      ]
    },
    {
      "cell_type": "code",
      "metadata": {
        "id": "78yexy_P0l-P",
        "colab_type": "code",
        "outputId": "dd424827-5b2e-4f40-9a70-bcbe53368433",
        "colab": {
          "base_uri": "https://localhost:8080/",
          "height": 282
        }
      },
      "source": [
        "plt.plot(list(hasil_mlp), label='Multilayer Perceptron')\n",
        "plt.plot(list(y_test), label='Nilai Asli')\n",
        "\n",
        "plt.legend(loc=\"upper right\")"
      ],
      "execution_count": 7,
      "outputs": [
        {
          "output_type": "execute_result",
          "data": {
            "text/plain": [
              "<matplotlib.legend.Legend at 0x7f5979755a20>"
            ]
          },
          "metadata": {
            "tags": []
          },
          "execution_count": 7
        },
        {
          "output_type": "display_data",
          "data": {
            "image/png": "[encoded data removed]",
            "text/plain": [
              "<Figure size 432x288 with 1 Axes>"
            ]
          },
          "metadata": {
            "tags": []
          }
        }
      ]
    },
    {
      "cell_type": "markdown",
      "metadata": {
        "id": "tVXfLCQm09BF",
        "colab_type": "text"
      },
      "source": [
        "<h2>TENSORFLOW PART</h2>"
      ]
    },
    {
      "cell_type": "code",
      "metadata": {
        "id": "4yBcUTBP0oE_",
        "colab_type": "code",
        "colab": {}
      },
      "source": [
        "%tensorflow_version 2.x\n",
        "from tensorflow.keras import Sequential, layers, optimizers"
      ],
      "execution_count": 0,
      "outputs": []
    },
    {
      "cell_type": "markdown",
      "metadata": {
        "id": "2v2wOi-Q36kk",
        "colab_type": "text"
      },
      "source": [
        "## Modeling"
      ]
    },
    {
      "cell_type": "code",
      "metadata": {
        "id": "qupqv7bn1SPz",
        "colab_type": "code",
        "colab": {}
      },
      "source": [
        "def Simple_NN():\n",
        "  model = Sequential([\n",
        "    layers.Dense(8, activation='relu', input_shape=[8]),\n",
        "    layers.Dense(8, activation='relu'),\n",
        "    layers.Dense(1)\n",
        "  ])\n",
        "\n",
        "  optimizer = optimizers.RMSprop(0.001)\n",
        "\n",
        "  model.compile(loss='mse',\n",
        "                optimizer=optimizer,\n",
        "                metrics=['mae', 'mse'])\n",
        "  return model"
      ],
      "execution_count": 0,
      "outputs": []
    },
    {
      "cell_type": "markdown",
      "metadata": {
        "id": "XnyITsRptZ0m",
        "colab_type": "text"
      },
      "source": [
        "Consists of :\n",
        "8 nodes in the input layer\n",
        "8 nodes in hidden layers 1 and 2 along with the activation function used is ReLU also 1 node in the output because this case is regression"
      ]
    },
    {
      "cell_type": "code",
      "metadata": {
        "id": "MxzBbneL1cHn",
        "colab_type": "code",
        "colab": {
          "base_uri": "https://localhost:8080/",
          "height": 255
        },
        "outputId": "d2c3c436-eac8-4a95-c3ba-95f0a7c0a6b2"
      },
      "source": [
        "model = Simple_NN()\n",
        "model.summary()"
      ],
      "execution_count": 10,
      "outputs": [
        {
          "output_type": "stream",
          "text": [
            "Model: \"sequential\"\n",
            "_________________________________________________________________\n",
            "Layer (type)                 Output Shape              Param #   \n",
            "=================================================================\n",
            "dense (Dense)                (None, 8)                 72        \n",
            "_________________________________________________________________\n",
            "dense_1 (Dense)              (None, 8)                 72        \n",
            "_________________________________________________________________\n",
            "dense_2 (Dense)              (None, 1)                 9         \n",
            "=================================================================\n",
            "Total params: 153\n",
            "Trainable params: 153\n",
            "Non-trainable params: 0\n",
            "_________________________________________________________________\n"
          ],
          "name": "stdout"
        }
      ]
    },
    {
      "cell_type": "markdown",
      "metadata": {
        "id": "ZdyYRX8b4bf1",
        "colab_type": "text"
      },
      "source": [
        "## Training model"
      ]
    },
    {
      "cell_type": "code",
      "metadata": {
        "id": "7rw60V7W1mfN",
        "colab_type": "code",
        "colab": {
          "base_uri": "https://localhost:8080/",
          "height": 1000
        },
        "outputId": "69b4b599-05d4-45d7-d9cd-f13f36c95bec"
      },
      "source": [
        "model.fit(x_train, y_train, epochs=200, validation_split = 0.2, verbose=1)"
      ],
      "execution_count": 11,
      "outputs": [
        {
          "output_type": "stream",
          "text": [
            "Epoch 1/200\n",
            "10/10 [==============================] - 0s 19ms/step - loss: 5688.5264 - mae: 47.9085 - mse: 5842.1084 - val_loss: 3825.4993 - val_mae: 42.4524 - val_mse: 3700.1980\n",
            "Epoch 2/200\n",
            "10/10 [==============================] - 0s 5ms/step - loss: 3518.4563 - mae: 37.1280 - mse: 3658.1938 - val_loss: 2629.7368 - val_mae: 34.8126 - val_mse: 2534.9829\n",
            "Epoch 3/200\n",
            "10/10 [==============================] - 0s 5ms/step - loss: 2507.8545 - mae: 30.1716 - mse: 2497.7446 - val_loss: 1711.3081 - val_mae: 27.6371 - val_mse: 1641.7242\n",
            "Epoch 4/200\n",
            "10/10 [==============================] - 0s 5ms/step - loss: 1517.9792 - mae: 23.8997 - mse: 1578.7963 - val_loss: 1073.2780 - val_mae: 21.3529 - val_mse: 1022.4113\n",
            "Epoch 5/200\n",
            "10/10 [==============================] - 0s 5ms/step - loss: 949.9619 - mae: 18.0345 - mse: 970.1711 - val_loss: 621.9750 - val_mae: 15.6800 - val_mse: 586.0807\n",
            "Epoch 6/200\n",
            "10/10 [==============================] - 0s 5ms/step - loss: 517.3412 - mae: 13.1986 - mse: 529.1011 - val_loss: 316.7270 - val_mae: 10.9557 - val_mse: 294.5541\n",
            "Epoch 7/200\n",
            "10/10 [==============================] - 0s 6ms/step - loss: 268.2639 - mae: 9.4134 - mse: 269.9949 - val_loss: 159.5186 - val_mae: 7.7022 - val_mse: 147.6982\n",
            "Epoch 8/200\n",
            "10/10 [==============================] - 0s 5ms/step - loss: 141.0030 - mae: 6.7598 - mse: 144.1677 - val_loss: 87.3280 - val_mae: 5.9455 - val_mse: 80.2252\n",
            "Epoch 9/200\n",
            "10/10 [==============================] - 0s 5ms/step - loss: 77.8931 - mae: 5.5430 - mse: 79.9672 - val_loss: 50.8807 - val_mae: 5.0996 - val_mse: 47.5217\n",
            "Epoch 10/200\n",
            "10/10 [==============================] - 0s 5ms/step - loss: 48.6930 - mae: 5.0238 - mse: 49.2877 - val_loss: 39.1998 - val_mae: 4.8414 - val_mse: 37.8812\n",
            "Epoch 11/200\n",
            "10/10 [==============================] - 0s 5ms/step - loss: 40.3238 - mae: 4.9895 - mse: 40.5514 - val_loss: 35.2569 - val_mae: 4.8129 - val_mse: 34.4296\n",
            "Epoch 12/200\n",
            "10/10 [==============================] - 0s 5ms/step - loss: 35.9459 - mae: 4.8540 - mse: 36.3388 - val_loss: 32.2329 - val_mae: 4.7720 - val_mse: 31.9854\n",
            "Epoch 13/200\n",
            "10/10 [==============================] - 0s 5ms/step - loss: 32.8709 - mae: 4.7788 - mse: 33.1575 - val_loss: 31.4069 - val_mae: 4.4296 - val_mse: 29.8101\n",
            "Epoch 14/200\n",
            "10/10 [==============================] - 0s 5ms/step - loss: 32.0448 - mae: 4.6346 - mse: 32.3842 - val_loss: 27.6597 - val_mae: 4.5001 - val_mse: 27.5041\n",
            "Epoch 15/200\n",
            "10/10 [==============================] - 0s 6ms/step - loss: 28.5503 - mae: 4.5030 - mse: 28.7138 - val_loss: 25.0010 - val_mae: 4.3321 - val_mse: 24.8701\n",
            "Epoch 16/200\n",
            "10/10 [==============================] - 0s 5ms/step - loss: 28.6135 - mae: 4.3812 - mse: 28.5161 - val_loss: 23.2960 - val_mae: 3.9925 - val_mse: 22.2664\n",
            "Epoch 17/200\n",
            "10/10 [==============================] - 0s 5ms/step - loss: 25.2149 - mae: 4.1902 - mse: 25.1544 - val_loss: 21.7752 - val_mae: 3.8434 - val_mse: 20.7116\n",
            "Epoch 18/200\n",
            "10/10 [==============================] - 0s 5ms/step - loss: 23.5907 - mae: 3.9706 - mse: 23.8447 - val_loss: 21.5949 - val_mae: 4.0902 - val_mse: 21.4775\n",
            "Epoch 19/200\n",
            "10/10 [==============================] - 0s 5ms/step - loss: 23.7563 - mae: 4.0552 - mse: 23.1753 - val_loss: 19.5357 - val_mae: 3.8408 - val_mse: 19.0975\n",
            "Epoch 20/200\n",
            "10/10 [==============================] - 0s 5ms/step - loss: 21.9183 - mae: 3.8809 - mse: 21.1750 - val_loss: 21.9357 - val_mae: 4.1698 - val_mse: 22.0758\n",
            "Epoch 21/200\n",
            "10/10 [==============================] - 0s 5ms/step - loss: 19.5389 - mae: 3.8110 - mse: 19.6426 - val_loss: 17.4616 - val_mae: 3.4743 - val_mse: 16.4435\n",
            "Epoch 22/200\n",
            "10/10 [==============================] - 0s 5ms/step - loss: 19.7842 - mae: 3.6960 - mse: 20.2402 - val_loss: 16.2409 - val_mae: 3.4331 - val_mse: 15.4785\n",
            "Epoch 23/200\n",
            "10/10 [==============================] - 0s 5ms/step - loss: 17.7199 - mae: 3.5042 - mse: 17.2025 - val_loss: 16.9165 - val_mae: 3.5875 - val_mse: 16.5285\n",
            "Epoch 24/200\n",
            "10/10 [==============================] - 0s 5ms/step - loss: 16.6528 - mae: 3.4525 - mse: 16.6440 - val_loss: 14.7769 - val_mae: 3.1624 - val_mse: 13.6999\n",
            "Epoch 25/200\n",
            "10/10 [==============================] - 0s 5ms/step - loss: 15.0917 - mae: 3.3170 - mse: 15.2668 - val_loss: 14.0287 - val_mae: 3.0743 - val_mse: 12.9712\n",
            "Epoch 26/200\n",
            "10/10 [==============================] - 0s 5ms/step - loss: 15.0433 - mae: 3.2341 - mse: 14.7775 - val_loss: 14.2625 - val_mae: 3.0507 - val_mse: 13.1582\n",
            "Epoch 27/200\n",
            "10/10 [==============================] - 0s 5ms/step - loss: 14.3401 - mae: 3.1751 - mse: 14.2154 - val_loss: 12.3617 - val_mae: 2.9175 - val_mse: 11.5135\n",
            "Epoch 28/200\n",
            "10/10 [==============================] - 0s 5ms/step - loss: 12.9605 - mae: 3.0827 - mse: 13.2022 - val_loss: 12.2927 - val_mae: 2.8554 - val_mse: 11.2947\n",
            "Epoch 29/200\n",
            "10/10 [==============================] - 0s 5ms/step - loss: 12.9046 - mae: 2.9895 - mse: 12.9083 - val_loss: 11.6061 - val_mae: 2.7829 - val_mse: 10.6762\n",
            "Epoch 30/200\n",
            "10/10 [==============================] - 0s 5ms/step - loss: 12.3841 - mae: 2.9553 - mse: 12.3183 - val_loss: 11.4093 - val_mae: 2.7229 - val_mse: 10.4387\n",
            "Epoch 31/200\n",
            "10/10 [==============================] - 0s 5ms/step - loss: 10.6636 - mae: 2.7379 - mse: 10.6625 - val_loss: 10.4931 - val_mae: 2.5986 - val_mse: 9.6116\n",
            "Epoch 32/200\n",
            "10/10 [==============================] - 0s 5ms/step - loss: 10.7559 - mae: 2.7876 - mse: 10.8272 - val_loss: 9.9536 - val_mae: 2.5363 - val_mse: 9.1108\n",
            "Epoch 33/200\n",
            "10/10 [==============================] - 0s 5ms/step - loss: 10.3132 - mae: 2.7045 - mse: 10.4260 - val_loss: 10.9199 - val_mae: 2.7273 - val_mse: 10.4248\n",
            "Epoch 34/200\n",
            "10/10 [==============================] - 0s 5ms/step - loss: 9.4182 - mae: 2.6186 - mse: 9.6149 - val_loss: 8.6174 - val_mae: 2.3346 - val_mse: 7.9301\n",
            "Epoch 35/200\n",
            "10/10 [==============================] - 0s 5ms/step - loss: 8.9270 - mae: 2.4367 - mse: 8.5684 - val_loss: 8.5258 - val_mae: 2.3142 - val_mse: 8.0281\n",
            "Epoch 36/200\n",
            "10/10 [==============================] - 0s 5ms/step - loss: 7.7898 - mae: 2.3281 - mse: 7.8146 - val_loss: 7.4482 - val_mae: 2.1162 - val_mse: 6.9201\n",
            "Epoch 37/200\n",
            "10/10 [==============================] - 0s 5ms/step - loss: 7.4353 - mae: 2.2092 - mse: 7.2907 - val_loss: 14.3425 - val_mae: 3.3596 - val_mse: 14.2905\n",
            "Epoch 38/200\n",
            "10/10 [==============================] - 0s 6ms/step - loss: 7.2164 - mae: 2.2387 - mse: 7.2534 - val_loss: 6.7856 - val_mae: 1.9718 - val_mse: 6.4578\n",
            "Epoch 39/200\n",
            "10/10 [==============================] - 0s 5ms/step - loss: 6.2472 - mae: 1.9971 - mse: 6.1725 - val_loss: 9.2482 - val_mae: 2.5406 - val_mse: 9.1468\n",
            "Epoch 40/200\n",
            "10/10 [==============================] - 0s 5ms/step - loss: 5.8014 - mae: 1.9306 - mse: 5.9067 - val_loss: 5.6060 - val_mae: 1.7889 - val_mse: 5.3523\n",
            "Epoch 41/200\n",
            "10/10 [==============================] - 0s 5ms/step - loss: 5.0977 - mae: 1.8070 - mse: 5.1956 - val_loss: 5.0796 - val_mae: 1.6814 - val_mse: 4.9096\n",
            "Epoch 42/200\n",
            "10/10 [==============================] - 0s 6ms/step - loss: 5.3592 - mae: 1.8216 - mse: 5.3548 - val_loss: 5.2834 - val_mae: 1.6669 - val_mse: 5.0412\n",
            "Epoch 43/200\n",
            "10/10 [==============================] - 0s 6ms/step - loss: 5.1003 - mae: 1.7044 - mse: 4.8746 - val_loss: 4.4598 - val_mae: 1.5095 - val_mse: 4.3675\n",
            "Epoch 44/200\n",
            "10/10 [==============================] - 0s 5ms/step - loss: 4.9800 - mae: 1.6877 - mse: 5.0158 - val_loss: 4.1698 - val_mae: 1.4478 - val_mse: 4.1011\n",
            "Epoch 45/200\n",
            "10/10 [==============================] - 0s 5ms/step - loss: 3.9403 - mae: 1.4977 - mse: 3.9499 - val_loss: 3.9145 - val_mae: 1.4032 - val_mse: 3.8337\n",
            "Epoch 46/200\n",
            "10/10 [==============================] - 0s 5ms/step - loss: 4.3014 - mae: 1.5813 - mse: 4.3805 - val_loss: 3.7909 - val_mae: 1.3793 - val_mse: 3.7155\n",
            "Epoch 47/200\n",
            "10/10 [==============================] - 0s 6ms/step - loss: 4.1613 - mae: 1.5547 - mse: 4.1539 - val_loss: 3.6947 - val_mae: 1.4021 - val_mse: 3.6348\n",
            "Epoch 48/200\n",
            "10/10 [==============================] - 0s 5ms/step - loss: 4.1816 - mae: 1.5256 - mse: 4.1414 - val_loss: 4.0340 - val_mae: 1.4872 - val_mse: 3.9728\n",
            "Epoch 49/200\n",
            "10/10 [==============================] - 0s 6ms/step - loss: 3.5862 - mae: 1.4368 - mse: 3.6590 - val_loss: 3.3069 - val_mae: 1.3229 - val_mse: 3.2434\n",
            "Epoch 50/200\n",
            "10/10 [==============================] - 0s 5ms/step - loss: 3.9526 - mae: 1.4750 - mse: 4.0421 - val_loss: 3.2345 - val_mae: 1.2907 - val_mse: 3.1650\n",
            "Epoch 51/200\n",
            "10/10 [==============================] - 0s 5ms/step - loss: 3.3264 - mae: 1.3100 - mse: 3.1803 - val_loss: 4.5802 - val_mae: 1.6447 - val_mse: 4.5403\n",
            "Epoch 52/200\n",
            "10/10 [==============================] - 0s 5ms/step - loss: 3.7421 - mae: 1.4749 - mse: 3.8234 - val_loss: 3.3863 - val_mae: 1.3255 - val_mse: 3.2863\n",
            "Epoch 53/200\n",
            "10/10 [==============================] - 0s 5ms/step - loss: 3.6216 - mae: 1.4006 - mse: 3.5402 - val_loss: 3.1503 - val_mae: 1.2974 - val_mse: 3.0704\n",
            "Epoch 54/200\n",
            "10/10 [==============================] - 0s 5ms/step - loss: 3.3816 - mae: 1.3938 - mse: 3.4516 - val_loss: 2.8977 - val_mae: 1.2269 - val_mse: 2.8200\n",
            "Epoch 55/200\n",
            "10/10 [==============================] - 0s 5ms/step - loss: 2.9180 - mae: 1.2520 - mse: 2.8888 - val_loss: 2.7854 - val_mae: 1.1994 - val_mse: 2.7172\n",
            "Epoch 56/200\n",
            "10/10 [==============================] - 0s 5ms/step - loss: 3.2548 - mae: 1.3360 - mse: 3.2100 - val_loss: 6.7441 - val_mae: 2.1011 - val_mse: 6.7208\n",
            "Epoch 57/200\n",
            "10/10 [==============================] - 0s 5ms/step - loss: 3.2148 - mae: 1.3327 - mse: 3.1630 - val_loss: 2.6255 - val_mae: 1.1799 - val_mse: 2.5590\n",
            "Epoch 58/200\n",
            "10/10 [==============================] - 0s 5ms/step - loss: 2.6251 - mae: 1.2320 - mse: 2.6977 - val_loss: 2.4134 - val_mae: 1.1175 - val_mse: 2.3731\n",
            "Epoch 59/200\n",
            "10/10 [==============================] - 0s 5ms/step - loss: 2.8404 - mae: 1.2704 - mse: 2.8724 - val_loss: 2.4648 - val_mae: 1.1388 - val_mse: 2.3997\n",
            "Epoch 60/200\n",
            "10/10 [==============================] - 0s 5ms/step - loss: 3.0843 - mae: 1.3406 - mse: 3.1476 - val_loss: 2.3136 - val_mae: 1.1046 - val_mse: 2.2714\n",
            "Epoch 61/200\n",
            "10/10 [==============================] - 0s 5ms/step - loss: 2.8284 - mae: 1.2224 - mse: 2.7574 - val_loss: 2.3396 - val_mae: 1.1124 - val_mse: 2.2864\n",
            "Epoch 62/200\n",
            "10/10 [==============================] - 0s 5ms/step - loss: 2.4263 - mae: 1.1723 - mse: 2.5207 - val_loss: 2.2137 - val_mae: 1.0645 - val_mse: 2.1762\n",
            "Epoch 63/200\n",
            "10/10 [==============================] - 0s 5ms/step - loss: 2.7398 - mae: 1.2283 - mse: 2.7860 - val_loss: 2.2485 - val_mae: 1.0968 - val_mse: 2.1980\n",
            "Epoch 64/200\n",
            "10/10 [==============================] - 0s 6ms/step - loss: 2.9967 - mae: 1.2538 - mse: 2.8781 - val_loss: 4.8863 - val_mae: 1.7047 - val_mse: 4.9336\n",
            "Epoch 65/200\n",
            "10/10 [==============================] - 0s 5ms/step - loss: 2.6327 - mae: 1.1917 - mse: 2.5728 - val_loss: 2.1485 - val_mae: 1.0672 - val_mse: 2.0974\n",
            "Epoch 66/200\n",
            "10/10 [==============================] - 0s 5ms/step - loss: 2.3710 - mae: 1.1831 - mse: 2.4032 - val_loss: 2.3654 - val_mae: 1.1652 - val_mse: 2.3919\n",
            "Epoch 67/200\n",
            "10/10 [==============================] - 0s 5ms/step - loss: 2.4656 - mae: 1.1966 - mse: 2.4937 - val_loss: 2.1824 - val_mae: 1.0965 - val_mse: 2.2016\n",
            "Epoch 68/200\n",
            "10/10 [==============================] - 0s 6ms/step - loss: 3.3035 - mae: 1.2781 - mse: 3.2578 - val_loss: 2.2533 - val_mae: 1.1206 - val_mse: 2.1874\n",
            "Epoch 69/200\n",
            "10/10 [==============================] - 0s 5ms/step - loss: 2.4673 - mae: 1.1292 - mse: 2.3216 - val_loss: 5.3033 - val_mae: 1.8529 - val_mse: 5.2555\n",
            "Epoch 70/200\n",
            "10/10 [==============================] - 0s 5ms/step - loss: 2.7597 - mae: 1.2739 - mse: 2.8205 - val_loss: 2.6728 - val_mae: 1.2569 - val_mse: 2.6234\n",
            "Epoch 71/200\n",
            "10/10 [==============================] - 0s 6ms/step - loss: 2.4488 - mae: 1.1922 - mse: 2.4648 - val_loss: 2.1978 - val_mae: 1.1168 - val_mse: 2.1879\n",
            "Epoch 72/200\n",
            "10/10 [==============================] - 0s 5ms/step - loss: 2.5749 - mae: 1.2008 - mse: 2.6217 - val_loss: 1.9755 - val_mae: 1.0372 - val_mse: 1.9377\n",
            "Epoch 73/200\n",
            "10/10 [==============================] - 0s 5ms/step - loss: 2.2289 - mae: 1.1055 - mse: 2.1570 - val_loss: 2.0990 - val_mae: 1.0957 - val_mse: 2.0416\n",
            "Epoch 74/200\n",
            "10/10 [==============================] - 0s 5ms/step - loss: 2.2179 - mae: 1.1228 - mse: 2.2166 - val_loss: 1.9285 - val_mae: 1.0382 - val_mse: 1.9396\n",
            "Epoch 75/200\n",
            "10/10 [==============================] - 0s 5ms/step - loss: 2.8884 - mae: 1.2375 - mse: 2.8969 - val_loss: 1.7946 - val_mae: 0.9781 - val_mse: 1.7694\n",
            "Epoch 76/200\n",
            "10/10 [==============================] - 0s 5ms/step - loss: 2.0034 - mae: 1.0751 - mse: 2.0527 - val_loss: 1.7493 - val_mae: 0.9657 - val_mse: 1.7262\n",
            "Epoch 77/200\n",
            "10/10 [==============================] - 0s 6ms/step - loss: 2.8204 - mae: 1.2306 - mse: 2.7974 - val_loss: 1.8844 - val_mae: 1.0202 - val_mse: 1.8488\n",
            "Epoch 78/200\n",
            "10/10 [==============================] - 0s 6ms/step - loss: 2.3897 - mae: 1.1419 - mse: 2.3046 - val_loss: 3.3371 - val_mae: 1.4634 - val_mse: 3.4658\n",
            "Epoch 79/200\n",
            "10/10 [==============================] - 0s 5ms/step - loss: 2.6493 - mae: 1.1931 - mse: 2.6511 - val_loss: 2.6439 - val_mae: 1.2868 - val_mse: 2.7025\n",
            "Epoch 80/200\n",
            "10/10 [==============================] - 0s 5ms/step - loss: 2.2221 - mae: 1.1280 - mse: 2.2690 - val_loss: 1.8651 - val_mae: 1.0385 - val_mse: 1.8813\n",
            "Epoch 81/200\n",
            "10/10 [==============================] - 0s 6ms/step - loss: 2.0893 - mae: 1.0924 - mse: 2.1241 - val_loss: 1.7286 - val_mae: 0.9743 - val_mse: 1.7051\n",
            "Epoch 82/200\n",
            "10/10 [==============================] - 0s 5ms/step - loss: 2.2759 - mae: 1.1424 - mse: 2.3335 - val_loss: 2.1003 - val_mae: 1.1181 - val_mse: 2.0391\n",
            "Epoch 83/200\n",
            "10/10 [==============================] - 0s 5ms/step - loss: 2.5100 - mae: 1.1630 - mse: 2.4309 - val_loss: 1.9554 - val_mae: 1.0777 - val_mse: 1.9776\n",
            "Epoch 84/200\n",
            "10/10 [==============================] - 0s 5ms/step - loss: 2.6454 - mae: 1.1774 - mse: 2.6368 - val_loss: 1.7122 - val_mae: 0.9725 - val_mse: 1.6827\n",
            "Epoch 85/200\n",
            "10/10 [==============================] - 0s 5ms/step - loss: 1.9866 - mae: 1.0430 - mse: 1.9179 - val_loss: 3.0413 - val_mae: 1.3657 - val_mse: 3.0894\n",
            "Epoch 86/200\n",
            "10/10 [==============================] - 0s 5ms/step - loss: 2.2947 - mae: 1.1567 - mse: 2.3549 - val_loss: 1.6721 - val_mae: 0.9692 - val_mse: 1.6478\n",
            "Epoch 87/200\n",
            "10/10 [==============================] - 0s 5ms/step - loss: 2.0032 - mae: 1.0577 - mse: 1.9702 - val_loss: 1.7701 - val_mae: 1.0013 - val_mse: 1.7374\n",
            "Epoch 88/200\n",
            "10/10 [==============================] - 0s 5ms/step - loss: 2.3148 - mae: 1.1891 - mse: 2.3470 - val_loss: 1.6175 - val_mae: 0.9432 - val_mse: 1.6010\n",
            "Epoch 89/200\n",
            "10/10 [==============================] - 0s 5ms/step - loss: 1.8896 - mae: 1.0384 - mse: 1.9314 - val_loss: 1.5783 - val_mae: 0.9272 - val_mse: 1.5830\n",
            "Epoch 90/200\n",
            "10/10 [==============================] - 0s 5ms/step - loss: 2.1738 - mae: 1.0874 - mse: 2.1372 - val_loss: 1.7219 - val_mae: 0.9879 - val_mse: 1.6928\n",
            "Epoch 91/200\n",
            "10/10 [==============================] - 0s 5ms/step - loss: 2.5614 - mae: 1.1465 - mse: 2.3844 - val_loss: 2.6380 - val_mae: 1.2811 - val_mse: 2.5893\n",
            "Epoch 92/200\n",
            "10/10 [==============================] - 0s 5ms/step - loss: 2.0635 - mae: 1.0810 - mse: 2.0169 - val_loss: 1.5300 - val_mae: 0.9156 - val_mse: 1.5314\n",
            "Epoch 93/200\n",
            "10/10 [==============================] - 0s 5ms/step - loss: 2.4700 - mae: 1.1375 - mse: 2.4369 - val_loss: 1.5191 - val_mae: 0.9135 - val_mse: 1.4961\n",
            "Epoch 94/200\n",
            "10/10 [==============================] - 0s 5ms/step - loss: 1.8105 - mae: 1.0306 - mse: 1.8323 - val_loss: 1.5169 - val_mae: 0.9113 - val_mse: 1.4928\n",
            "Epoch 95/200\n",
            "10/10 [==============================] - 0s 5ms/step - loss: 2.6145 - mae: 1.2088 - mse: 2.5576 - val_loss: 1.5463 - val_mae: 0.9176 - val_mse: 1.5213\n",
            "Epoch 96/200\n",
            "10/10 [==============================] - 0s 5ms/step - loss: 1.8703 - mae: 1.0470 - mse: 1.8736 - val_loss: 1.4961 - val_mae: 0.9057 - val_mse: 1.4981\n",
            "Epoch 97/200\n",
            "10/10 [==============================] - 0s 5ms/step - loss: 2.3614 - mae: 1.1286 - mse: 2.3626 - val_loss: 1.5894 - val_mae: 0.9460 - val_mse: 1.5681\n",
            "Epoch 98/200\n",
            "10/10 [==============================] - 0s 5ms/step - loss: 2.0588 - mae: 1.0790 - mse: 2.0717 - val_loss: 2.1634 - val_mae: 1.1469 - val_mse: 2.1103\n",
            "Epoch 99/200\n",
            "10/10 [==============================] - 0s 5ms/step - loss: 2.1905 - mae: 1.1054 - mse: 2.1922 - val_loss: 2.4091 - val_mae: 1.2615 - val_mse: 2.5238\n",
            "Epoch 100/200\n",
            "10/10 [==============================] - 0s 6ms/step - loss: 2.0902 - mae: 1.0912 - mse: 2.0730 - val_loss: 3.4592 - val_mae: 1.4619 - val_mse: 3.5513\n",
            "Epoch 101/200\n",
            "10/10 [==============================] - 0s 5ms/step - loss: 2.1219 - mae: 1.1135 - mse: 2.1794 - val_loss: 1.5032 - val_mae: 0.9109 - val_mse: 1.4900\n",
            "Epoch 102/200\n",
            "10/10 [==============================] - 0s 5ms/step - loss: 2.3531 - mae: 1.1259 - mse: 2.3428 - val_loss: 2.3823 - val_mae: 1.2084 - val_mse: 2.3255\n",
            "Epoch 103/200\n",
            "10/10 [==============================] - 0s 5ms/step - loss: 1.9192 - mae: 1.0210 - mse: 1.8913 - val_loss: 3.0472 - val_mae: 1.3478 - val_mse: 2.9386\n",
            "Epoch 104/200\n",
            "10/10 [==============================] - 0s 5ms/step - loss: 2.3751 - mae: 1.1156 - mse: 2.3747 - val_loss: 1.4345 - val_mae: 0.8889 - val_mse: 1.4187\n",
            "Epoch 105/200\n",
            "10/10 [==============================] - 0s 5ms/step - loss: 1.9909 - mae: 1.0784 - mse: 2.0260 - val_loss: 1.4433 - val_mae: 0.8920 - val_mse: 1.4173\n",
            "Epoch 106/200\n",
            "10/10 [==============================] - 0s 6ms/step - loss: 2.0474 - mae: 1.0903 - mse: 2.0647 - val_loss: 1.6911 - val_mae: 1.0235 - val_mse: 1.7371\n",
            "Epoch 107/200\n",
            "10/10 [==============================] - 0s 5ms/step - loss: 2.1424 - mae: 1.1255 - mse: 2.1791 - val_loss: 1.7481 - val_mae: 1.0426 - val_mse: 1.7934\n",
            "Epoch 108/200\n",
            "10/10 [==============================] - 0s 5ms/step - loss: 1.8104 - mae: 1.0174 - mse: 1.8454 - val_loss: 1.5702 - val_mae: 0.9666 - val_mse: 1.5932\n",
            "Epoch 109/200\n",
            "10/10 [==============================] - 0s 6ms/step - loss: 2.1595 - mae: 1.1098 - mse: 2.1535 - val_loss: 1.4497 - val_mae: 0.8959 - val_mse: 1.4367\n",
            "Epoch 110/200\n",
            "10/10 [==============================] - 0s 6ms/step - loss: 2.1879 - mae: 1.1068 - mse: 2.1288 - val_loss: 1.4260 - val_mae: 0.8940 - val_mse: 1.4218\n",
            "Epoch 111/200\n",
            "10/10 [==============================] - 0s 6ms/step - loss: 2.0270 - mae: 1.0755 - mse: 2.0200 - val_loss: 3.1049 - val_mae: 1.4197 - val_mse: 3.2248\n",
            "Epoch 112/200\n",
            "10/10 [==============================] - 0s 5ms/step - loss: 2.3550 - mae: 1.1161 - mse: 2.3251 - val_loss: 1.4481 - val_mae: 0.9035 - val_mse: 1.4328\n",
            "Epoch 113/200\n",
            "10/10 [==============================] - 0s 5ms/step - loss: 1.8581 - mae: 1.0462 - mse: 1.8862 - val_loss: 1.5012 - val_mae: 0.9448 - val_mse: 1.5210\n",
            "Epoch 114/200\n",
            "10/10 [==============================] - 0s 5ms/step - loss: 2.3070 - mae: 1.1065 - mse: 2.2340 - val_loss: 3.0781 - val_mae: 1.3932 - val_mse: 3.0476\n",
            "Epoch 115/200\n",
            "10/10 [==============================] - 0s 5ms/step - loss: 1.9460 - mae: 1.0316 - mse: 1.9187 - val_loss: 1.4817 - val_mae: 0.9319 - val_mse: 1.4851\n",
            "Epoch 116/200\n",
            "10/10 [==============================] - 0s 6ms/step - loss: 2.0238 - mae: 1.0959 - mse: 2.0509 - val_loss: 1.3759 - val_mae: 0.8702 - val_mse: 1.3639\n",
            "Epoch 117/200\n",
            "10/10 [==============================] - 0s 5ms/step - loss: 2.0164 - mae: 1.0429 - mse: 2.0048 - val_loss: 1.5063 - val_mae: 0.9470 - val_mse: 1.5196\n",
            "Epoch 118/200\n",
            "10/10 [==============================] - 0s 5ms/step - loss: 2.1462 - mae: 1.1062 - mse: 2.1867 - val_loss: 1.7065 - val_mae: 1.0193 - val_mse: 1.7284\n",
            "Epoch 119/200\n",
            "10/10 [==============================] - 0s 6ms/step - loss: 1.9775 - mae: 1.0697 - mse: 2.0289 - val_loss: 1.3733 - val_mae: 0.8710 - val_mse: 1.3540\n",
            "Epoch 120/200\n",
            "10/10 [==============================] - 0s 5ms/step - loss: 1.9268 - mae: 1.0718 - mse: 1.9664 - val_loss: 1.4720 - val_mae: 0.9331 - val_mse: 1.5001\n",
            "Epoch 121/200\n",
            "10/10 [==============================] - 0s 5ms/step - loss: 2.0993 - mae: 1.0735 - mse: 2.0301 - val_loss: 3.1433 - val_mae: 1.4449 - val_mse: 3.3190\n",
            "Epoch 122/200\n",
            "10/10 [==============================] - 0s 5ms/step - loss: 1.8686 - mae: 1.0312 - mse: 1.8377 - val_loss: 1.4647 - val_mae: 0.9162 - val_mse: 1.4307\n",
            "Epoch 123/200\n",
            "10/10 [==============================] - 0s 6ms/step - loss: 2.0726 - mae: 1.1240 - mse: 2.1101 - val_loss: 1.7000 - val_mae: 1.0238 - val_mse: 1.7275\n",
            "Epoch 124/200\n",
            "10/10 [==============================] - 0s 5ms/step - loss: 2.1042 - mae: 1.0766 - mse: 2.1290 - val_loss: 1.9412 - val_mae: 1.1003 - val_mse: 1.9864\n",
            "Epoch 125/200\n",
            "10/10 [==============================] - 0s 5ms/step - loss: 1.9630 - mae: 1.0495 - mse: 1.9389 - val_loss: 2.2786 - val_mae: 1.1854 - val_mse: 2.2291\n",
            "Epoch 126/200\n",
            "10/10 [==============================] - 0s 5ms/step - loss: 1.7680 - mae: 0.9961 - mse: 1.7608 - val_loss: 1.3623 - val_mae: 0.8728 - val_mse: 1.3560\n",
            "Epoch 127/200\n",
            "10/10 [==============================] - 0s 6ms/step - loss: 1.9543 - mae: 1.0726 - mse: 2.0110 - val_loss: 1.4650 - val_mae: 0.9331 - val_mse: 1.4750\n",
            "Epoch 128/200\n",
            "10/10 [==============================] - 0s 6ms/step - loss: 2.5331 - mae: 1.1645 - mse: 2.5781 - val_loss: 1.4583 - val_mae: 0.9264 - val_mse: 1.4915\n",
            "Epoch 129/200\n",
            "10/10 [==============================] - 0s 5ms/step - loss: 1.7893 - mae: 1.0385 - mse: 1.8147 - val_loss: 1.5398 - val_mae: 0.9692 - val_mse: 1.5558\n",
            "Epoch 130/200\n",
            "10/10 [==============================] - 0s 5ms/step - loss: 1.8122 - mae: 1.0316 - mse: 1.8430 - val_loss: 1.3664 - val_mae: 0.8691 - val_mse: 1.3470\n",
            "Epoch 131/200\n",
            "10/10 [==============================] - 0s 5ms/step - loss: 2.1997 - mae: 1.0773 - mse: 2.1905 - val_loss: 1.6761 - val_mae: 0.9916 - val_mse: 1.6297\n",
            "Epoch 132/200\n",
            "10/10 [==============================] - 0s 5ms/step - loss: 2.2124 - mae: 1.0943 - mse: 2.2568 - val_loss: 1.4463 - val_mae: 0.9255 - val_mse: 1.4376\n",
            "Epoch 133/200\n",
            "10/10 [==============================] - 0s 6ms/step - loss: 1.7200 - mae: 1.0020 - mse: 1.7209 - val_loss: 1.3532 - val_mae: 0.8660 - val_mse: 1.3394\n",
            "Epoch 134/200\n",
            "10/10 [==============================] - 0s 5ms/step - loss: 2.0184 - mae: 1.0458 - mse: 1.8993 - val_loss: 3.2055 - val_mae: 1.4510 - val_mse: 3.3715\n",
            "Epoch 135/200\n",
            "10/10 [==============================] - 0s 5ms/step - loss: 2.1411 - mae: 1.1201 - mse: 2.1812 - val_loss: 1.6412 - val_mae: 0.9841 - val_mse: 1.5814\n",
            "Epoch 136/200\n",
            "10/10 [==============================] - 0s 5ms/step - loss: 1.7307 - mae: 1.0274 - mse: 1.7623 - val_loss: 1.5215 - val_mae: 0.9475 - val_mse: 1.4675\n",
            "Epoch 137/200\n",
            "10/10 [==============================] - 0s 5ms/step - loss: 1.8598 - mae: 1.0472 - mse: 1.8842 - val_loss: 1.3307 - val_mae: 0.8643 - val_mse: 1.3333\n",
            "Epoch 138/200\n",
            "10/10 [==============================] - 0s 6ms/step - loss: 2.2408 - mae: 1.1384 - mse: 2.2694 - val_loss: 1.5245 - val_mae: 0.9689 - val_mse: 1.5476\n",
            "Epoch 139/200\n",
            "10/10 [==============================] - 0s 6ms/step - loss: 1.9691 - mae: 1.0785 - mse: 1.9945 - val_loss: 1.3349 - val_mae: 0.8531 - val_mse: 1.3161\n",
            "Epoch 140/200\n",
            "10/10 [==============================] - 0s 5ms/step - loss: 2.0507 - mae: 1.0496 - mse: 1.9716 - val_loss: 1.5968 - val_mae: 0.9499 - val_mse: 1.5611\n",
            "Epoch 141/200\n",
            "10/10 [==============================] - 0s 5ms/step - loss: 1.7755 - mae: 1.0115 - mse: 1.8177 - val_loss: 1.3943 - val_mae: 0.9058 - val_mse: 1.3901\n",
            "Epoch 142/200\n",
            "10/10 [==============================] - 0s 6ms/step - loss: 2.0968 - mae: 1.1106 - mse: 2.1253 - val_loss: 1.5488 - val_mae: 0.9664 - val_mse: 1.5510\n",
            "Epoch 143/200\n",
            "10/10 [==============================] - 0s 5ms/step - loss: 1.8870 - mae: 1.0198 - mse: 1.8083 - val_loss: 1.3416 - val_mae: 0.8762 - val_mse: 1.3516\n",
            "Epoch 144/200\n",
            "10/10 [==============================] - 0s 5ms/step - loss: 1.6703 - mae: 0.9907 - mse: 1.7106 - val_loss: 1.3131 - val_mae: 0.8563 - val_mse: 1.3006\n",
            "Epoch 145/200\n",
            "10/10 [==============================] - 0s 6ms/step - loss: 1.8855 - mae: 1.0759 - mse: 1.9106 - val_loss: 2.6524 - val_mae: 1.3330 - val_mse: 2.8378\n",
            "Epoch 146/200\n",
            "10/10 [==============================] - 0s 6ms/step - loss: 1.8822 - mae: 1.0415 - mse: 1.8375 - val_loss: 1.3794 - val_mae: 0.9026 - val_mse: 1.3852\n",
            "Epoch 147/200\n",
            "10/10 [==============================] - 0s 6ms/step - loss: 1.9269 - mae: 1.0616 - mse: 1.9246 - val_loss: 1.4170 - val_mae: 0.9116 - val_mse: 1.3763\n",
            "Epoch 148/200\n",
            "10/10 [==============================] - 0s 5ms/step - loss: 1.7539 - mae: 1.0231 - mse: 1.7768 - val_loss: 1.3474 - val_mae: 0.8818 - val_mse: 1.3595\n",
            "Epoch 149/200\n",
            "10/10 [==============================] - 0s 5ms/step - loss: 1.9775 - mae: 1.0581 - mse: 1.9306 - val_loss: 1.3057 - val_mae: 0.8483 - val_mse: 1.2937\n",
            "Epoch 150/200\n",
            "10/10 [==============================] - 0s 6ms/step - loss: 2.1097 - mae: 1.0735 - mse: 2.0351 - val_loss: 4.7389 - val_mae: 1.6791 - val_mse: 4.8468\n",
            "Epoch 151/200\n",
            "10/10 [==============================] - 0s 5ms/step - loss: 1.9193 - mae: 1.0536 - mse: 1.9556 - val_loss: 1.4028 - val_mae: 0.9035 - val_mse: 1.3838\n",
            "Epoch 152/200\n",
            "10/10 [==============================] - 0s 5ms/step - loss: 1.9476 - mae: 1.0423 - mse: 1.8871 - val_loss: 1.6335 - val_mae: 1.0132 - val_mse: 1.6893\n",
            "Epoch 153/200\n",
            "10/10 [==============================] - 0s 5ms/step - loss: 2.1041 - mae: 1.0813 - mse: 2.1494 - val_loss: 1.3267 - val_mae: 0.8591 - val_mse: 1.2994\n",
            "Epoch 154/200\n",
            "10/10 [==============================] - 0s 5ms/step - loss: 1.9323 - mae: 1.0210 - mse: 1.8507 - val_loss: 3.4466 - val_mae: 1.4781 - val_mse: 3.5803\n",
            "Epoch 155/200\n",
            "10/10 [==============================] - 0s 6ms/step - loss: 2.2007 - mae: 1.1116 - mse: 2.2278 - val_loss: 1.3464 - val_mae: 0.8892 - val_mse: 1.3548\n",
            "Epoch 156/200\n",
            "10/10 [==============================] - 0s 6ms/step - loss: 1.6228 - mae: 0.9656 - mse: 1.5987 - val_loss: 1.7817 - val_mae: 1.0441 - val_mse: 1.7958\n",
            "Epoch 157/200\n",
            "10/10 [==============================] - 0s 6ms/step - loss: 1.9600 - mae: 1.0827 - mse: 1.9263 - val_loss: 1.3337 - val_mae: 0.8859 - val_mse: 1.3415\n",
            "Epoch 158/200\n",
            "10/10 [==============================] - 0s 5ms/step - loss: 1.8850 - mae: 1.0327 - mse: 1.8234 - val_loss: 1.8032 - val_mae: 1.0817 - val_mse: 1.8922\n",
            "Epoch 159/200\n",
            "10/10 [==============================] - 0s 5ms/step - loss: 1.7144 - mae: 1.0155 - mse: 1.7274 - val_loss: 2.8826 - val_mae: 1.3470 - val_mse: 2.8452\n",
            "Epoch 160/200\n",
            "10/10 [==============================] - 0s 5ms/step - loss: 1.9873 - mae: 1.0589 - mse: 2.0248 - val_loss: 1.5461 - val_mae: 0.9501 - val_mse: 1.5178\n",
            "Epoch 161/200\n",
            "10/10 [==============================] - 0s 5ms/step - loss: 1.7398 - mae: 1.0149 - mse: 1.7419 - val_loss: 1.4153 - val_mae: 0.8955 - val_mse: 1.3893\n",
            "Epoch 162/200\n",
            "10/10 [==============================] - 0s 5ms/step - loss: 2.0254 - mae: 1.0741 - mse: 2.0394 - val_loss: 1.7819 - val_mae: 1.0338 - val_mse: 1.7856\n",
            "Epoch 163/200\n",
            "10/10 [==============================] - 0s 6ms/step - loss: 2.1980 - mae: 1.0493 - mse: 2.0002 - val_loss: 2.3686 - val_mae: 1.2402 - val_mse: 2.4791\n",
            "Epoch 164/200\n",
            "10/10 [==============================] - 0s 5ms/step - loss: 2.0628 - mae: 1.0507 - mse: 1.9225 - val_loss: 2.0890 - val_mae: 1.1286 - val_mse: 2.0467\n",
            "Epoch 165/200\n",
            "10/10 [==============================] - 0s 5ms/step - loss: 1.6410 - mae: 0.9985 - mse: 1.6591 - val_loss: 1.4279 - val_mae: 0.9153 - val_mse: 1.3916\n",
            "Epoch 166/200\n",
            "10/10 [==============================] - 0s 6ms/step - loss: 1.9972 - mae: 1.0942 - mse: 2.0421 - val_loss: 1.3000 - val_mae: 0.8602 - val_mse: 1.3085\n",
            "Epoch 167/200\n",
            "10/10 [==============================] - 0s 6ms/step - loss: 1.6494 - mae: 0.9902 - mse: 1.6555 - val_loss: 1.2757 - val_mae: 0.8472 - val_mse: 1.2826\n",
            "Epoch 168/200\n",
            "10/10 [==============================] - 0s 5ms/step - loss: 1.5818 - mae: 0.9705 - mse: 1.5944 - val_loss: 1.3521 - val_mae: 0.8971 - val_mse: 1.3731\n",
            "Epoch 169/200\n",
            "10/10 [==============================] - 0s 5ms/step - loss: 2.3892 - mae: 1.1609 - mse: 2.4381 - val_loss: 1.7151 - val_mae: 1.0341 - val_mse: 1.7367\n",
            "Epoch 170/200\n",
            "10/10 [==============================] - 0s 5ms/step - loss: 1.7541 - mae: 1.0053 - mse: 1.7680 - val_loss: 1.3385 - val_mae: 0.8860 - val_mse: 1.3156\n",
            "Epoch 171/200\n",
            "10/10 [==============================] - 0s 5ms/step - loss: 2.1193 - mae: 1.1019 - mse: 2.1803 - val_loss: 1.2757 - val_mae: 0.8411 - val_mse: 1.2668\n",
            "Epoch 172/200\n",
            "10/10 [==============================] - 0s 5ms/step - loss: 1.7628 - mae: 1.0013 - mse: 1.7289 - val_loss: 1.7576 - val_mae: 1.0244 - val_mse: 1.7068\n",
            "Epoch 173/200\n",
            "10/10 [==============================] - 0s 6ms/step - loss: 2.0168 - mae: 1.0620 - mse: 2.0523 - val_loss: 1.6738 - val_mae: 1.0165 - val_mse: 1.7084\n",
            "Epoch 174/200\n",
            "10/10 [==============================] - 0s 5ms/step - loss: 1.7608 - mae: 1.0192 - mse: 1.7900 - val_loss: 1.4971 - val_mae: 0.9272 - val_mse: 1.4672\n",
            "Epoch 175/200\n",
            "10/10 [==============================] - 0s 5ms/step - loss: 1.6091 - mae: 0.9607 - mse: 1.5943 - val_loss: 2.6303 - val_mae: 1.3217 - val_mse: 2.8218\n",
            "Epoch 176/200\n",
            "10/10 [==============================] - 0s 6ms/step - loss: 2.3447 - mae: 1.1242 - mse: 2.3796 - val_loss: 1.2909 - val_mae: 0.8423 - val_mse: 1.2720\n",
            "Epoch 177/200\n",
            "10/10 [==============================] - 0s 5ms/step - loss: 1.7541 - mae: 1.0134 - mse: 1.7862 - val_loss: 1.2652 - val_mae: 0.8345 - val_mse: 1.2460\n",
            "Epoch 178/200\n",
            "10/10 [==============================] - 0s 6ms/step - loss: 1.6339 - mae: 0.9898 - mse: 1.6385 - val_loss: 2.1532 - val_mae: 1.1266 - val_mse: 2.0684\n",
            "Epoch 179/200\n",
            "10/10 [==============================] - 0s 5ms/step - loss: 2.0036 - mae: 1.0972 - mse: 2.0419 - val_loss: 1.2610 - val_mae: 0.8429 - val_mse: 1.2577\n",
            "Epoch 180/200\n",
            "10/10 [==============================] - 0s 5ms/step - loss: 1.7314 - mae: 1.0205 - mse: 1.7376 - val_loss: 1.4306 - val_mae: 0.9130 - val_mse: 1.3951\n",
            "Epoch 181/200\n",
            "10/10 [==============================] - 0s 5ms/step - loss: 1.7813 - mae: 1.0156 - mse: 1.7793 - val_loss: 1.8681 - val_mae: 1.0553 - val_mse: 1.8028\n",
            "Epoch 182/200\n",
            "10/10 [==============================] - 0s 5ms/step - loss: 1.7791 - mae: 1.0086 - mse: 1.7598 - val_loss: 2.8450 - val_mae: 1.3210 - val_mse: 2.7900\n",
            "Epoch 183/200\n",
            "10/10 [==============================] - 0s 5ms/step - loss: 2.0162 - mae: 1.0552 - mse: 2.0544 - val_loss: 1.3109 - val_mae: 0.8521 - val_mse: 1.2886\n",
            "Epoch 184/200\n",
            "10/10 [==============================] - 0s 6ms/step - loss: 2.1581 - mae: 1.1076 - mse: 2.2206 - val_loss: 1.5726 - val_mae: 0.9392 - val_mse: 1.5429\n",
            "Epoch 185/200\n",
            "10/10 [==============================] - 0s 6ms/step - loss: 1.7157 - mae: 0.9888 - mse: 1.6669 - val_loss: 1.9792 - val_mae: 1.0982 - val_mse: 2.0157\n",
            "Epoch 186/200\n",
            "10/10 [==============================] - 0s 6ms/step - loss: 1.8730 - mae: 1.0444 - mse: 1.9197 - val_loss: 1.4350 - val_mae: 0.9209 - val_mse: 1.4092\n",
            "Epoch 187/200\n",
            "10/10 [==============================] - 0s 5ms/step - loss: 2.1136 - mae: 1.0577 - mse: 2.1016 - val_loss: 1.7047 - val_mae: 1.0248 - val_mse: 1.7527\n",
            "Epoch 188/200\n",
            "10/10 [==============================] - 0s 5ms/step - loss: 1.7324 - mae: 1.0141 - mse: 1.7363 - val_loss: 1.5953 - val_mae: 0.9943 - val_mse: 1.6467\n",
            "Epoch 189/200\n",
            "10/10 [==============================] - 0s 5ms/step - loss: 1.8975 - mae: 1.0489 - mse: 1.8856 - val_loss: 1.2944 - val_mae: 0.8542 - val_mse: 1.3188\n",
            "Epoch 190/200\n",
            "10/10 [==============================] - 0s 6ms/step - loss: 1.8256 - mae: 0.9807 - mse: 1.7152 - val_loss: 4.0334 - val_mae: 1.5763 - val_mse: 3.9685\n",
            "Epoch 191/200\n",
            "10/10 [==============================] - 0s 5ms/step - loss: 1.9942 - mae: 1.0632 - mse: 2.0499 - val_loss: 1.2422 - val_mae: 0.8238 - val_mse: 1.2288\n",
            "Epoch 192/200\n",
            "10/10 [==============================] - 0s 5ms/step - loss: 1.9201 - mae: 1.0273 - mse: 1.8068 - val_loss: 1.2582 - val_mae: 0.8378 - val_mse: 1.2666\n",
            "Epoch 193/200\n",
            "10/10 [==============================] - 0s 5ms/step - loss: 1.9445 - mae: 1.0643 - mse: 1.9590 - val_loss: 1.4524 - val_mae: 0.9308 - val_mse: 1.4067\n",
            "Epoch 194/200\n",
            "10/10 [==============================] - 0s 5ms/step - loss: 1.6435 - mae: 0.9573 - mse: 1.6126 - val_loss: 4.3171 - val_mae: 1.6387 - val_mse: 4.2601\n",
            "Epoch 195/200\n",
            "10/10 [==============================] - 0s 6ms/step - loss: 1.8937 - mae: 1.0494 - mse: 1.9441 - val_loss: 1.2528 - val_mae: 0.8379 - val_mse: 1.2442\n",
            "Epoch 196/200\n",
            "10/10 [==============================] - 0s 5ms/step - loss: 2.0594 - mae: 1.0574 - mse: 2.0334 - val_loss: 1.3378 - val_mae: 0.8836 - val_mse: 1.3224\n",
            "Epoch 197/200\n",
            "10/10 [==============================] - 0s 5ms/step - loss: 1.6564 - mae: 0.9752 - mse: 1.6412 - val_loss: 1.3952 - val_mae: 0.9110 - val_mse: 1.4250\n",
            "Epoch 198/200\n",
            "10/10 [==============================] - 0s 5ms/step - loss: 1.5422 - mae: 0.9614 - mse: 1.5710 - val_loss: 1.3879 - val_mae: 0.8902 - val_mse: 1.3601\n",
            "Epoch 199/200\n",
            "10/10 [==============================] - 0s 5ms/step - loss: 1.8391 - mae: 1.0238 - mse: 1.8770 - val_loss: 1.7740 - val_mae: 1.0434 - val_mse: 1.8117\n",
            "Epoch 200/200\n",
            "10/10 [==============================] - 0s 5ms/step - loss: 1.7056 - mae: 1.0056 - mse: 1.7074 - val_loss: 2.5526 - val_mae: 1.2536 - val_mse: 2.5183\n"
          ],
          "name": "stdout"
        },
        {
          "output_type": "execute_result",
          "data": {
            "text/plain": [
              "<tensorflow.python.keras.callbacks.History at 0x7f58f0177208>"
            ]
          },
          "metadata": {
            "tags": []
          },
          "execution_count": 11
        }
      ]
    },
    {
      "cell_type": "markdown",
      "metadata": {
        "id": "7nwNCbyU4hf4",
        "colab_type": "text"
      },
      "source": [
        "## Using model to predict the <b>x_test</b>"
      ]
    },
    {
      "cell_type": "code",
      "metadata": {
        "id": "tQV3-irl2eGD",
        "colab_type": "code",
        "colab": {
          "base_uri": "https://localhost:8080/",
          "height": 578
        },
        "outputId": "72adfbd6-95c4-40b9-cac3-bdf165bec857"
      },
      "source": [
        "hasil_tf = model.predict(x_test)\n",
        "\n",
        "# HASIL PREDIKSI\n",
        "hasil_tf.ravel()"
      ],
      "execution_count": 12,
      "outputs": [
        {
          "output_type": "execute_result",
          "data": {
            "text/plain": [
              "array([ 3.9272752 ,  1.8701423 ,  3.489388  ,  5.505734  ,  5.1806583 ,\n",
              "        3.71341   ,  5.163359  ,  4.1892304 ,  4.1796713 ,  4.395856  ,\n",
              "        5.471845  ,  4.623673  ,  2.4047513 ,  4.0342097 ,  3.2144938 ,\n",
              "        5.061693  ,  4.2603974 ,  5.220202  ,  2.2158942 ,  5.0486455 ,\n",
              "        2.8807244 ,  4.432387  ,  3.450162  ,  5.293685  ,  4.2280755 ,\n",
              "        4.619283  ,  0.20215645,  4.9889026 ,  3.239182  ,  3.355414  ,\n",
              "        2.220963  ,  1.7770313 ,  2.2359738 ,  5.5348067 ,  6.5707154 ,\n",
              "        4.2262955 ,  4.4311094 ,  5.7352395 ,  5.014087  ,  2.667954  ,\n",
              "        6.316527  ,  2.1286244 ,  1.6379398 ,  4.367906  ,  4.9566293 ,\n",
              "        4.6988683 ,  2.3400645 ,  1.3957828 ,  6.935686  ,  2.0868115 ,\n",
              "        3.6729693 ,  6.4079766 ,  0.94305074,  4.8784394 ,  3.3629956 ,\n",
              "        3.9477277 ,  3.7471404 ,  3.5896192 ,  2.8607793 ,  5.2540774 ,\n",
              "        1.663258  ,  2.8553967 ,  3.844771  ,  2.707787  ,  2.9402928 ,\n",
              "        2.9081683 , 10.2039175 ,  3.885571  ,  1.7012028 ,  2.6382833 ,\n",
              "        6.008074  ,  5.467083  ,  1.2144359 ,  2.9974856 ,  3.5789657 ,\n",
              "        1.989098  ,  3.409924  ,  7.459061  ,  4.22214   ,  4.8433824 ,\n",
              "        3.475081  ,  4.900889  ,  6.113436  ,  3.2170186 ,  2.6975627 ,\n",
              "        5.2761307 ,  3.2935681 ,  3.723311  ,  5.2579503 ,  1.3397564 ,\n",
              "        1.6289753 ,  3.215508  ,  3.1073766 ,  2.660664  ,  3.8347633 ,\n",
              "        3.2389455 ,  3.7564511 ,  6.0472846 ,  3.8034792 ,  4.138102  ,\n",
              "        3.4422088 ,  3.3578038 ,  3.537974  ,  4.40982   ,  3.9186664 ,\n",
              "        3.454002  ,  3.6378675 ,  4.227678  ,  1.2403187 ,  1.950993  ,\n",
              "        5.986491  ,  7.154714  ,  4.4613004 ,  6.415278  ,  4.8118043 ,\n",
              "        4.712704  ,  5.118843  ,  2.9263387 ,  2.2519345 ,  6.5765023 ,\n",
              "        1.9788402 ,  2.031155  ,  4.071379  ,  2.0286584 ,  3.484074  ,\n",
              "        3.6247735 ,  3.7514591 ,  5.732466  ,  4.80745   ,  3.1381955 ,\n",
              "        3.2867975 ,  3.717587  ,  3.1228662 ,  4.4181285 ,  3.537274  ,\n",
              "        4.516356  ,  4.7426915 ,  5.6032233 ,  1.9735683 ,  3.9229712 ,\n",
              "        2.004292  ,  4.6204276 ,  5.464047  ,  5.835076  ,  4.6288705 ,\n",
              "        5.006171  ,  3.5285983 ,  3.5578084 ,  4.778813  ,  4.1288342 ,\n",
              "        3.82128   ,  3.674871  ,  3.8550606 ,  2.9363675 ,  5.5510335 ,\n",
              "        3.8339849 ,  2.922051  ,  3.9702535 ,  3.8360693 ,  2.458817  ,\n",
              "        3.0935044 ,  1.0432552 ,  3.6001716 ,  2.6041417 ], dtype=float32)"
            ]
          },
          "metadata": {
            "tags": []
          },
          "execution_count": 12
        }
      ]
    },
    {
      "cell_type": "markdown",
      "metadata": {
        "id": "Wg98nF9C4veP",
        "colab_type": "text"
      },
      "source": [
        "## Evaluate the model using <b>mean squared error</b>"
      ]
    },
    {
      "cell_type": "code",
      "metadata": {
        "id": "AePLgFIQ22DX",
        "colab_type": "code",
        "outputId": "50b28687-c2cd-47c7-be2d-769ecfe203bb",
        "colab": {
          "base_uri": "https://localhost:8080/",
          "height": 34
        }
      },
      "source": [
        "mean_squared_error(y_test, hasil_tf)"
      ],
      "execution_count": 13,
      "outputs": [
        {
          "output_type": "execute_result",
          "data": {
            "text/plain": [
              "2.6808352500583896"
            ]
          },
          "metadata": {
            "tags": []
          },
          "execution_count": 13
        }
      ]
    },
    {
      "cell_type": "markdown",
      "metadata": {
        "id": "bySRKQ1FuprJ",
        "colab_type": "text"
      },
      "source": [
        "Getting smaller the MSE of a model, getting better model in predicting"
      ]
    },
    {
      "cell_type": "markdown",
      "metadata": {
        "id": "FlpkhTv_5KMs",
        "colab_type": "text"
      },
      "source": [
        "## Line chart"
      ]
    },
    {
      "cell_type": "code",
      "metadata": {
        "id": "d-r3sYsW3hDm",
        "colab_type": "code",
        "outputId": "b51dbcaa-3ef4-4d13-9494-5e3c21fed50e",
        "colab": {
          "base_uri": "https://localhost:8080/",
          "height": 282
        }
      },
      "source": [
        "plt.plot(list(hasil_tf), label='Tensorflow')\n",
        "plt.plot(list(y_test), label='Nilai Asli')\n",
        "\n",
        "plt.legend(loc=\"upper right\")"
      ],
      "execution_count": 14,
      "outputs": [
        {
          "output_type": "execute_result",
          "data": {
            "text/plain": [
              "<matplotlib.legend.Legend at 0x7f58d62fe198>"
            ]
          },
          "metadata": {
            "tags": []
          },
          "execution_count": 14
        },
        {
          "output_type": "display_data",
          "data": {
            "image/png": "[encoded data removed]",
            "text/plain": [
              "<Figure size 432x288 with 1 Axes>"
            ]
          },
          "metadata": {
            "tags": []
          }
        }
      ]
    }
  ]
}