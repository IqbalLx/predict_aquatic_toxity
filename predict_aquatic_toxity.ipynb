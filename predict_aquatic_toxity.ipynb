{
  "nbformat": 4,
  "nbformat_minor": 0,
  "metadata": {
    "colab": {
      "name": "predict_aquatic_toxity.ipynb",
      "provenance": [],
      "collapsed_sections": [],
      "include_colab_link": true
    },
    "kernelspec": {
      "name": "python3",
      "display_name": "Python 3"
    },
    "accelerator": "GPU"
  },
  "cells": [
    {
      "cell_type": "markdown",
      "metadata": {
        "id": "view-in-github",
        "colab_type": "text"
      },
      "source": [
        "<a href=\"https://colab.research.google.com/github/chilaact/predict_aquatic_toxity/blob/master/predict_aquatic_toxity.ipynb\" target=\"_parent\"><img src=\"https://colab.research.google.com/assets/colab-badge.svg\" alt=\"Open In Colab\"/></a>"
      ]
    },
    {
      "cell_type": "markdown",
      "metadata": {
        "id": "W5QsI7ZTiNyj",
        "colab_type": "text"
      },
      "source": [
        "# QSAR Aquatic Toxicity Prediction with Simple Neural Networks Using TensorFlow"
      ]
    },
    {
      "cell_type": "markdown",
      "metadata": {
        "id": "7TXqaMLrssmV",
        "colab_type": "text"
      },
      "source": [
        "Mount drive"
      ]
    },
    {
      "cell_type": "code",
      "metadata": {
        "id": "ltt2lHejVcjF",
        "colab_type": "code",
        "outputId": "c6df9be4-81a8-45be-d1e1-0dd03c2e054f",
        "colab": {
          "base_uri": "https://localhost:8080/",
          "height": 34
        }
      },
      "source": [
        "from google.colab import drive\n",
        "drive.mount('/content/drive')"
      ],
      "execution_count": 67,
      "outputs": [
        {
          "output_type": "stream",
          "text": [
            "Drive already mounted at /content/drive; to attempt to forcibly remount, call drive.mount(\"/content/drive\", force_remount=True).\n"
          ],
          "name": "stdout"
        }
      ]
    },
    {
      "cell_type": "markdown",
      "metadata": {
        "id": "p4muH0qBQ0B9",
        "colab_type": "text"
      },
      "source": [
        "## **Data Preparation**"
      ]
    },
    {
      "cell_type": "markdown",
      "metadata": {
        "id": "YT1Yfr85sx4d",
        "colab_type": "text"
      },
      "source": [
        "Import libraries"
      ]
    },
    {
      "cell_type": "code",
      "metadata": {
        "id": "JK05KEJF0EbO",
        "colab_type": "code",
        "colab": {}
      },
      "source": [
        "from pandas import read_csv\n",
        "from matplotlib import pyplot as plt\n",
        "\n",
        "from sklearn.model_selection import train_test_split\n",
        "\n",
        "from sklearn.neural_network import MLPRegressor\n",
        "from sklearn.linear_model import LinearRegression\n",
        "\n",
        "from sklearn.metrics import mean_squared_error"
      ],
      "execution_count": 0,
      "outputs": []
    },
    {
      "cell_type": "markdown",
      "metadata": {
        "id": "wWTzFHZK0qGc",
        "colab_type": "text"
      },
      "source": [
        "## Load data"
      ]
    },
    {
      "cell_type": "markdown",
      "metadata": {
        "id": "QXFL0FXFtHlP",
        "colab_type": "text"
      },
      "source": [
        "dataset from https://archive.ics.uci.edu/ml/datasets/QSAR+aquatic+toxicity"
      ]
    },
    {
      "cell_type": "code",
      "metadata": {
        "id": "sl1L8U360Sdw",
        "colab_type": "code",
        "outputId": "32f2ca8c-d6c9-4e80-ee00-481d0aefd22b",
        "colab": {
          "base_uri": "https://localhost:8080/",
          "height": 419
        }
      },
      "source": [
        "data = read_csv(\"/content/drive/My Drive/Colab Notebooks/task/qsar_aquatic_toxicity.csv\", sep=\";\")\n",
        "data"
      ],
      "execution_count": 69,
      "outputs": [
        {
          "output_type": "execute_result",
          "data": {
            "text/html": [
              "<div>\n",
              "<style scoped>\n",
              "    .dataframe tbody tr th:only-of-type {\n",
              "        vertical-align: middle;\n",
              "    }\n",
              "\n",
              "    .dataframe tbody tr th {\n",
              "        vertical-align: top;\n",
              "    }\n",
              "\n",
              "    .dataframe thead th {\n",
              "        text-align: right;\n",
              "    }\n",
              "</style>\n",
              "<table border=\"1\" class=\"dataframe\">\n",
              "  <thead>\n",
              "    <tr style=\"text-align: right;\">\n",
              "      <th></th>\n",
              "      <th>TPSA</th>\n",
              "      <th>SAacc</th>\n",
              "      <th>H-050</th>\n",
              "      <th>MLOGP</th>\n",
              "      <th>RDCHI</th>\n",
              "      <th>GATS1p</th>\n",
              "      <th>nN</th>\n",
              "      <th>C-040</th>\n",
              "      <th>quantitive response</th>\n",
              "    </tr>\n",
              "  </thead>\n",
              "  <tbody>\n",
              "    <tr>\n",
              "      <th>0</th>\n",
              "      <td>0.00</td>\n",
              "      <td>0.000</td>\n",
              "      <td>0</td>\n",
              "      <td>2.419</td>\n",
              "      <td>1.225</td>\n",
              "      <td>0.667</td>\n",
              "      <td>0</td>\n",
              "      <td>0</td>\n",
              "      <td>3.740</td>\n",
              "    </tr>\n",
              "    <tr>\n",
              "      <th>1</th>\n",
              "      <td>0.00</td>\n",
              "      <td>0.000</td>\n",
              "      <td>0</td>\n",
              "      <td>2.638</td>\n",
              "      <td>1.401</td>\n",
              "      <td>0.632</td>\n",
              "      <td>0</td>\n",
              "      <td>0</td>\n",
              "      <td>4.330</td>\n",
              "    </tr>\n",
              "    <tr>\n",
              "      <th>2</th>\n",
              "      <td>9.23</td>\n",
              "      <td>11.000</td>\n",
              "      <td>0</td>\n",
              "      <td>5.799</td>\n",
              "      <td>2.930</td>\n",
              "      <td>0.486</td>\n",
              "      <td>0</td>\n",
              "      <td>0</td>\n",
              "      <td>7.019</td>\n",
              "    </tr>\n",
              "    <tr>\n",
              "      <th>3</th>\n",
              "      <td>9.23</td>\n",
              "      <td>11.000</td>\n",
              "      <td>0</td>\n",
              "      <td>5.453</td>\n",
              "      <td>2.887</td>\n",
              "      <td>0.495</td>\n",
              "      <td>0</td>\n",
              "      <td>0</td>\n",
              "      <td>6.723</td>\n",
              "    </tr>\n",
              "    <tr>\n",
              "      <th>4</th>\n",
              "      <td>9.23</td>\n",
              "      <td>11.000</td>\n",
              "      <td>0</td>\n",
              "      <td>4.068</td>\n",
              "      <td>2.758</td>\n",
              "      <td>0.695</td>\n",
              "      <td>0</td>\n",
              "      <td>0</td>\n",
              "      <td>5.979</td>\n",
              "    </tr>\n",
              "    <tr>\n",
              "      <th>...</th>\n",
              "      <td>...</td>\n",
              "      <td>...</td>\n",
              "      <td>...</td>\n",
              "      <td>...</td>\n",
              "      <td>...</td>\n",
              "      <td>...</td>\n",
              "      <td>...</td>\n",
              "      <td>...</td>\n",
              "      <td>...</td>\n",
              "    </tr>\n",
              "    <tr>\n",
              "      <th>541</th>\n",
              "      <td>24.06</td>\n",
              "      <td>35.776</td>\n",
              "      <td>2</td>\n",
              "      <td>3.326</td>\n",
              "      <td>2.837</td>\n",
              "      <td>0.849</td>\n",
              "      <td>2</td>\n",
              "      <td>0</td>\n",
              "      <td>4.651</td>\n",
              "    </tr>\n",
              "    <tr>\n",
              "      <th>542</th>\n",
              "      <td>9.23</td>\n",
              "      <td>11.000</td>\n",
              "      <td>0</td>\n",
              "      <td>3.275</td>\n",
              "      <td>2.727</td>\n",
              "      <td>0.874</td>\n",
              "      <td>0</td>\n",
              "      <td>0</td>\n",
              "      <td>3.953</td>\n",
              "    </tr>\n",
              "    <tr>\n",
              "      <th>543</th>\n",
              "      <td>0.00</td>\n",
              "      <td>0.000</td>\n",
              "      <td>0</td>\n",
              "      <td>5.165</td>\n",
              "      <td>3.111</td>\n",
              "      <td>0.732</td>\n",
              "      <td>0</td>\n",
              "      <td>0</td>\n",
              "      <td>6.219</td>\n",
              "    </tr>\n",
              "    <tr>\n",
              "      <th>544</th>\n",
              "      <td>13.14</td>\n",
              "      <td>9.507</td>\n",
              "      <td>0</td>\n",
              "      <td>2.859</td>\n",
              "      <td>2.614</td>\n",
              "      <td>0.827</td>\n",
              "      <td>0</td>\n",
              "      <td>0</td>\n",
              "      <td>4.995</td>\n",
              "    </tr>\n",
              "    <tr>\n",
              "      <th>545</th>\n",
              "      <td>0.00</td>\n",
              "      <td>0.000</td>\n",
              "      <td>0</td>\n",
              "      <td>2.255</td>\n",
              "      <td>1.800</td>\n",
              "      <td>0.917</td>\n",
              "      <td>0</td>\n",
              "      <td>0</td>\n",
              "      <td>2.480</td>\n",
              "    </tr>\n",
              "  </tbody>\n",
              "</table>\n",
              "<p>546 rows × 9 columns</p>\n",
              "</div>"
            ],
            "text/plain": [
              "      TPSA   SAacc  H-050  MLOGP  RDCHI  GATS1p  nN  C-040  quantitive response\n",
              "0     0.00   0.000      0  2.419  1.225   0.667   0      0                3.740\n",
              "1     0.00   0.000      0  2.638  1.401   0.632   0      0                4.330\n",
              "2     9.23  11.000      0  5.799  2.930   0.486   0      0                7.019\n",
              "3     9.23  11.000      0  5.453  2.887   0.495   0      0                6.723\n",
              "4     9.23  11.000      0  4.068  2.758   0.695   0      0                5.979\n",
              "..     ...     ...    ...    ...    ...     ...  ..    ...                  ...\n",
              "541  24.06  35.776      2  3.326  2.837   0.849   2      0                4.651\n",
              "542   9.23  11.000      0  3.275  2.727   0.874   0      0                3.953\n",
              "543   0.00   0.000      0  5.165  3.111   0.732   0      0                6.219\n",
              "544  13.14   9.507      0  2.859  2.614   0.827   0      0                4.995\n",
              "545   0.00   0.000      0  2.255  1.800   0.917   0      0                2.480\n",
              "\n",
              "[546 rows x 9 columns]"
            ]
          },
          "metadata": {
            "tags": []
          },
          "execution_count": 69
        }
      ]
    },
    {
      "cell_type": "markdown",
      "metadata": {
        "id": "wdWJADpgRNg-",
        "colab_type": "text"
      },
      "source": [
        "**Data information and characteristics**"
      ]
    },
    {
      "cell_type": "code",
      "metadata": {
        "id": "e5mlJ_8VRbxt",
        "colab_type": "code",
        "outputId": "7b4484b4-001d-41dc-aaeb-f5d29944a17a",
        "colab": {
          "base_uri": "https://localhost:8080/",
          "height": 535
        }
      },
      "source": [
        "data.info()\n",
        "data.describe()"
      ],
      "execution_count": 70,
      "outputs": [
        {
          "output_type": "stream",
          "text": [
            "<class 'pandas.core.frame.DataFrame'>\n",
            "RangeIndex: 546 entries, 0 to 545\n",
            "Data columns (total 9 columns):\n",
            "TPSA                   546 non-null float64\n",
            "SAacc                  546 non-null float64\n",
            "H-050                  546 non-null int64\n",
            "MLOGP                  546 non-null float64\n",
            "RDCHI                  546 non-null float64\n",
            "GATS1p                 546 non-null float64\n",
            "nN                     546 non-null int64\n",
            "C-040                  546 non-null int64\n",
            "quantitive response    546 non-null float64\n",
            "dtypes: float64(6), int64(3)\n",
            "memory usage: 38.5 KB\n"
          ],
          "name": "stdout"
        },
        {
          "output_type": "execute_result",
          "data": {
            "text/html": [
              "<div>\n",
              "<style scoped>\n",
              "    .dataframe tbody tr th:only-of-type {\n",
              "        vertical-align: middle;\n",
              "    }\n",
              "\n",
              "    .dataframe tbody tr th {\n",
              "        vertical-align: top;\n",
              "    }\n",
              "\n",
              "    .dataframe thead th {\n",
              "        text-align: right;\n",
              "    }\n",
              "</style>\n",
              "<table border=\"1\" class=\"dataframe\">\n",
              "  <thead>\n",
              "    <tr style=\"text-align: right;\">\n",
              "      <th></th>\n",
              "      <th>TPSA</th>\n",
              "      <th>SAacc</th>\n",
              "      <th>H-050</th>\n",
              "      <th>MLOGP</th>\n",
              "      <th>RDCHI</th>\n",
              "      <th>GATS1p</th>\n",
              "      <th>nN</th>\n",
              "      <th>C-040</th>\n",
              "      <th>quantitive response</th>\n",
              "    </tr>\n",
              "  </thead>\n",
              "  <tbody>\n",
              "    <tr>\n",
              "      <th>count</th>\n",
              "      <td>546.000000</td>\n",
              "      <td>546.000000</td>\n",
              "      <td>546.000000</td>\n",
              "      <td>546.000000</td>\n",
              "      <td>546.000000</td>\n",
              "      <td>546.000000</td>\n",
              "      <td>546.000000</td>\n",
              "      <td>546.000000</td>\n",
              "      <td>546.000000</td>\n",
              "    </tr>\n",
              "    <tr>\n",
              "      <th>mean</th>\n",
              "      <td>48.472930</td>\n",
              "      <td>58.869018</td>\n",
              "      <td>0.937729</td>\n",
              "      <td>2.313493</td>\n",
              "      <td>2.492299</td>\n",
              "      <td>1.046264</td>\n",
              "      <td>1.003663</td>\n",
              "      <td>0.353480</td>\n",
              "      <td>4.658421</td>\n",
              "    </tr>\n",
              "    <tr>\n",
              "      <th>std</th>\n",
              "      <td>46.763983</td>\n",
              "      <td>68.166554</td>\n",
              "      <td>1.618632</td>\n",
              "      <td>1.741797</td>\n",
              "      <td>0.811004</td>\n",
              "      <td>0.403677</td>\n",
              "      <td>1.397240</td>\n",
              "      <td>0.806827</td>\n",
              "      <td>1.665215</td>\n",
              "    </tr>\n",
              "    <tr>\n",
              "      <th>min</th>\n",
              "      <td>0.000000</td>\n",
              "      <td>0.000000</td>\n",
              "      <td>0.000000</td>\n",
              "      <td>-6.446000</td>\n",
              "      <td>1.000000</td>\n",
              "      <td>0.281000</td>\n",
              "      <td>0.000000</td>\n",
              "      <td>0.000000</td>\n",
              "      <td>0.122000</td>\n",
              "    </tr>\n",
              "    <tr>\n",
              "      <th>25%</th>\n",
              "      <td>15.790000</td>\n",
              "      <td>11.000000</td>\n",
              "      <td>0.000000</td>\n",
              "      <td>1.232500</td>\n",
              "      <td>1.975000</td>\n",
              "      <td>0.737000</td>\n",
              "      <td>0.000000</td>\n",
              "      <td>0.000000</td>\n",
              "      <td>3.601500</td>\n",
              "    </tr>\n",
              "    <tr>\n",
              "      <th>50%</th>\n",
              "      <td>40.460000</td>\n",
              "      <td>42.683000</td>\n",
              "      <td>0.000000</td>\n",
              "      <td>2.273500</td>\n",
              "      <td>2.344000</td>\n",
              "      <td>1.020500</td>\n",
              "      <td>1.000000</td>\n",
              "      <td>0.000000</td>\n",
              "      <td>4.516000</td>\n",
              "    </tr>\n",
              "    <tr>\n",
              "      <th>75%</th>\n",
              "      <td>70.022500</td>\n",
              "      <td>77.492750</td>\n",
              "      <td>1.000000</td>\n",
              "      <td>3.392750</td>\n",
              "      <td>2.911000</td>\n",
              "      <td>1.266500</td>\n",
              "      <td>2.000000</td>\n",
              "      <td>0.000000</td>\n",
              "      <td>5.607500</td>\n",
              "    </tr>\n",
              "    <tr>\n",
              "      <th>max</th>\n",
              "      <td>347.320000</td>\n",
              "      <td>571.952000</td>\n",
              "      <td>18.000000</td>\n",
              "      <td>9.148000</td>\n",
              "      <td>6.439000</td>\n",
              "      <td>2.500000</td>\n",
              "      <td>11.000000</td>\n",
              "      <td>11.000000</td>\n",
              "      <td>10.047000</td>\n",
              "    </tr>\n",
              "  </tbody>\n",
              "</table>\n",
              "</div>"
            ],
            "text/plain": [
              "             TPSA       SAacc  ...       C-040  quantitive response\n",
              "count  546.000000  546.000000  ...  546.000000           546.000000\n",
              "mean    48.472930   58.869018  ...    0.353480             4.658421\n",
              "std     46.763983   68.166554  ...    0.806827             1.665215\n",
              "min      0.000000    0.000000  ...    0.000000             0.122000\n",
              "25%     15.790000   11.000000  ...    0.000000             3.601500\n",
              "50%     40.460000   42.683000  ...    0.000000             4.516000\n",
              "75%     70.022500   77.492750  ...    0.000000             5.607500\n",
              "max    347.320000  571.952000  ...   11.000000            10.047000\n",
              "\n",
              "[8 rows x 9 columns]"
            ]
          },
          "metadata": {
            "tags": []
          },
          "execution_count": 70
        }
      ]
    },
    {
      "cell_type": "markdown",
      "metadata": {
        "id": "DIiEaqZs0u35",
        "colab_type": "text"
      },
      "source": [
        "## Split data"
      ]
    },
    {
      "cell_type": "markdown",
      "metadata": {
        "id": "d7sd6quHSM-H",
        "colab_type": "text"
      },
      "source": [
        "70% of data for data training and 30% of data for data testing"
      ]
    },
    {
      "cell_type": "code",
      "metadata": {
        "id": "cY4cXxVs0Ybt",
        "colab_type": "code",
        "outputId": "98f43312-9f32-4e49-804b-a37ef8f4f5bc",
        "colab": {
          "base_uri": "https://localhost:8080/",
          "height": 51
        }
      },
      "source": [
        "x_train, x_test, y_train, y_test = train_test_split(data.drop(axis=0, columns='quantitive response'),\n",
        "                                                   data['quantitive response'],\n",
        "                                                   test_size=0.3)\n",
        "print(\"Train: \", len(x_train))\n",
        "print(\"Test: \", len(x_test))"
      ],
      "execution_count": 71,
      "outputs": [
        {
          "output_type": "stream",
          "text": [
            "Train:  382\n",
            "Test:  164\n"
          ],
          "name": "stdout"
        }
      ]
    },
    {
      "cell_type": "markdown",
      "metadata": {
        "id": "0mcherDs0xmp",
        "colab_type": "text"
      },
      "source": [
        "## Train and test the models"
      ]
    },
    {
      "cell_type": "code",
      "metadata": {
        "id": "G7stB_h60hE1",
        "colab_type": "code",
        "outputId": "d673828b-82da-430a-f664-f8a553cf38fa",
        "colab": {
          "base_uri": "https://localhost:8080/",
          "height": 51
        }
      },
      "source": [
        "lnr = LinearRegression()\n",
        "mlp = MLPRegressor()\n",
        "\n",
        "lnr.fit(x_train, y_train)\n",
        "mlp.fit(x_train, y_train)\n",
        "\n",
        "hasil_lnr = lnr.predict(x_test)\n",
        "hasil_mlp = mlp.predict(x_test)\n",
        "\n",
        "print(\"Mead Squared Error Linear Regression : \" ,mean_squared_error(y_test, hasil_lnr))\n",
        "print(\"Mead Squared Error Multilayer Perceptron : \" ,mean_squared_error(y_test, hasil_mlp))"
      ],
      "execution_count": 72,
      "outputs": [
        {
          "output_type": "stream",
          "text": [
            "Mead Squared Error Linear Regression :  1.4943257604046192\n",
            "Mead Squared Error Multilayer Perceptron :  8.024795828825814\n"
          ],
          "name": "stdout"
        }
      ]
    },
    {
      "cell_type": "code",
      "metadata": {
        "id": "u6_YPGI50jUQ",
        "colab_type": "code",
        "outputId": "3ff7187e-4861-47d8-f149-02421aef9c0c",
        "colab": {
          "base_uri": "https://localhost:8080/",
          "height": 282
        }
      },
      "source": [
        "plt.plot(list(hasil_lnr), label='Linear Regression')\n",
        "plt.plot(list(y_test), label='Actual Value')\n",
        "\n",
        "plt.legend(loc=\"upper right\")"
      ],
      "execution_count": 73,
      "outputs": [
        {
          "output_type": "execute_result",
          "data": {
            "text/plain": [
              "<matplotlib.legend.Legend at 0x7fb614846e48>"
            ]
          },
          "metadata": {
            "tags": []
          },
          "execution_count": 73
        },
        {
          "output_type": "display_data",
          "data": {
            "image/png": "[encoded data removed]",
            "text/plain": [
              "<Figure size 432x288 with 1 Axes>"
            ]
          },
          "metadata": {
            "tags": []
          }
        }
      ]
    },
    {
      "cell_type": "code",
      "metadata": {
        "id": "78yexy_P0l-P",
        "colab_type": "code",
        "outputId": "1efd1fe7-1f0a-4e3d-886c-c50232849971",
        "colab": {
          "base_uri": "https://localhost:8080/",
          "height": 282
        }
      },
      "source": [
        "plt.plot(list(hasil_mlp), label='Multilayer Perceptron')\n",
        "plt.plot(list(y_test), label='Actual Value')\n",
        "\n",
        "plt.legend(loc=\"upper right\")"
      ],
      "execution_count": 74,
      "outputs": [
        {
          "output_type": "execute_result",
          "data": {
            "text/plain": [
              "<matplotlib.legend.Legend at 0x7fb62642e978>"
            ]
          },
          "metadata": {
            "tags": []
          },
          "execution_count": 74
        },
        {
          "output_type": "display_data",
          "data": {
            "image/png": "[encoded data removed]",
            "text/plain": [
              "<Figure size 432x288 with 1 Axes>"
            ]
          },
          "metadata": {
            "tags": []
          }
        }
      ]
    },
    {
      "cell_type": "markdown",
      "metadata": {
        "id": "tVXfLCQm09BF",
        "colab_type": "text"
      },
      "source": [
        "<h2>TENSORFLOW PART</h2>"
      ]
    },
    {
      "cell_type": "code",
      "metadata": {
        "id": "4yBcUTBP0oE_",
        "colab_type": "code",
        "colab": {}
      },
      "source": [
        "%tensorflow_version 2.x\n",
        "from tensorflow.keras import Sequential, layers, optimizers"
      ],
      "execution_count": 0,
      "outputs": []
    },
    {
      "cell_type": "markdown",
      "metadata": {
        "id": "2v2wOi-Q36kk",
        "colab_type": "text"
      },
      "source": [
        "## Modeling"
      ]
    },
    {
      "cell_type": "markdown",
      "metadata": {
        "id": "XnyITsRptZ0m",
        "colab_type": "text"
      },
      "source": [
        "Consists of :\n",
        "8 nodes in the input layer\n",
        "8 nodes in hidden layers 1 and 2 along with the activation function used is ReLU also 1 node in the output because this case is regression"
      ]
    },
    {
      "cell_type": "code",
      "metadata": {
        "id": "qupqv7bn1SPz",
        "colab_type": "code",
        "colab": {}
      },
      "source": [
        "def Simple_NN():\n",
        "  model = Sequential([\n",
        "    layers.Dense(8, activation='relu', input_shape=[8]),\n",
        "    layers.Dense(8, activation='relu'),\n",
        "    layers.Dense(1)\n",
        "  ])\n",
        "\n",
        "  optimizer = optimizers.RMSprop(0.001)\n",
        "\n",
        "  model.compile(loss='mse',\n",
        "                optimizer=optimizer,\n",
        "                metrics=['mae', 'mse'])\n",
        "  return model"
      ],
      "execution_count": 0,
      "outputs": []
    },
    {
      "cell_type": "code",
      "metadata": {
        "id": "MxzBbneL1cHn",
        "colab_type": "code",
        "outputId": "619d5c68-c718-467f-a82d-3dce3d76df1a",
        "colab": {
          "base_uri": "https://localhost:8080/",
          "height": 255
        }
      },
      "source": [
        "model = Simple_NN()\n",
        "model.summary()"
      ],
      "execution_count": 77,
      "outputs": [
        {
          "output_type": "stream",
          "text": [
            "Model: \"sequential_4\"\n",
            "_________________________________________________________________\n",
            "Layer (type)                 Output Shape              Param #   \n",
            "=================================================================\n",
            "dense_12 (Dense)             (None, 8)                 72        \n",
            "_________________________________________________________________\n",
            "dense_13 (Dense)             (None, 8)                 72        \n",
            "_________________________________________________________________\n",
            "dense_14 (Dense)             (None, 1)                 9         \n",
            "=================================================================\n",
            "Total params: 153\n",
            "Trainable params: 153\n",
            "Non-trainable params: 0\n",
            "_________________________________________________________________\n"
          ],
          "name": "stdout"
        }
      ]
    },
    {
      "cell_type": "markdown",
      "metadata": {
        "id": "ZdyYRX8b4bf1",
        "colab_type": "text"
      },
      "source": [
        "## Training model"
      ]
    },
    {
      "cell_type": "code",
      "metadata": {
        "id": "7rw60V7W1mfN",
        "colab_type": "code",
        "outputId": "721c03a2-a22f-4b0e-9cd1-40b773021012",
        "colab": {
          "base_uri": "https://localhost:8080/",
          "height": 1000
        }
      },
      "source": [
        "model.fit(x_train, y_train, epochs=100, validation_split = 0.2, verbose=1)"
      ],
      "execution_count": 78,
      "outputs": [
        {
          "output_type": "stream",
          "text": [
            "Epoch 1/100\n",
            "10/10 [==============================] - 0s 13ms/step - loss: 182.2457 - mae: 11.1700 - mse: 184.0239 - val_loss: 79.6983 - val_mae: 7.3265 - val_mse: 73.6348\n",
            "Epoch 2/100\n",
            "10/10 [==============================] - 0s 7ms/step - loss: 51.6194 - mae: 6.2460 - mse: 52.4295 - val_loss: 30.4468 - val_mae: 4.7924 - val_mse: 29.8676\n",
            "Epoch 3/100\n",
            "10/10 [==============================] - 0s 5ms/step - loss: 18.2953 - mae: 3.7265 - mse: 18.6206 - val_loss: 12.9426 - val_mae: 3.1028 - val_mse: 13.5208\n",
            "Epoch 4/100\n",
            "10/10 [==============================] - 0s 6ms/step - loss: 9.6288 - mae: 2.6377 - mse: 9.7571 - val_loss: 8.4054 - val_mae: 2.3961 - val_mse: 8.7628\n",
            "Epoch 5/100\n",
            "10/10 [==============================] - 0s 6ms/step - loss: 7.6724 - mae: 2.2616 - mse: 7.6156 - val_loss: 7.9663 - val_mae: 2.3674 - val_mse: 8.0725\n",
            "Epoch 6/100\n",
            "10/10 [==============================] - 0s 6ms/step - loss: 6.3040 - mae: 2.0674 - mse: 6.3917 - val_loss: 6.5865 - val_mae: 2.0220 - val_mse: 6.5282\n",
            "Epoch 7/100\n",
            "10/10 [==============================] - 0s 5ms/step - loss: 5.6066 - mae: 1.9145 - mse: 5.6315 - val_loss: 6.5870 - val_mae: 2.0830 - val_mse: 6.4644\n",
            "Epoch 8/100\n",
            "10/10 [==============================] - 0s 5ms/step - loss: 5.0572 - mae: 1.7846 - mse: 5.1343 - val_loss: 5.9587 - val_mae: 1.8046 - val_mse: 5.6588\n",
            "Epoch 9/100\n",
            "10/10 [==============================] - 0s 6ms/step - loss: 4.8472 - mae: 1.7259 - mse: 4.7869 - val_loss: 5.6258 - val_mae: 1.7631 - val_mse: 5.3648\n",
            "Epoch 10/100\n",
            "10/10 [==============================] - 0s 6ms/step - loss: 4.7435 - mae: 1.7075 - mse: 4.6985 - val_loss: 5.3318 - val_mae: 1.7392 - val_mse: 5.1451\n",
            "Epoch 11/100\n",
            "10/10 [==============================] - 0s 6ms/step - loss: 4.3157 - mae: 1.6292 - mse: 4.2144 - val_loss: 5.2143 - val_mae: 1.6990 - val_mse: 4.9393\n",
            "Epoch 12/100\n",
            "10/10 [==============================] - 0s 7ms/step - loss: 3.9201 - mae: 1.5951 - mse: 4.0160 - val_loss: 4.7929 - val_mae: 1.6788 - val_mse: 4.6592\n",
            "Epoch 13/100\n",
            "10/10 [==============================] - 0s 6ms/step - loss: 3.6732 - mae: 1.5384 - mse: 3.7636 - val_loss: 4.6452 - val_mae: 1.6260 - val_mse: 4.4583\n",
            "Epoch 14/100\n",
            "10/10 [==============================] - 0s 6ms/step - loss: 3.6088 - mae: 1.4977 - mse: 3.6254 - val_loss: 5.2457 - val_mae: 1.8637 - val_mse: 5.1342\n",
            "Epoch 15/100\n",
            "10/10 [==============================] - 0s 6ms/step - loss: 3.3872 - mae: 1.4787 - mse: 3.4633 - val_loss: 4.1576 - val_mae: 1.5852 - val_mse: 4.0755\n",
            "Epoch 16/100\n",
            "10/10 [==============================] - 0s 6ms/step - loss: 3.3205 - mae: 1.4270 - mse: 3.2910 - val_loss: 4.4322 - val_mae: 1.6040 - val_mse: 4.2111\n",
            "Epoch 17/100\n",
            "10/10 [==============================] - 0s 6ms/step - loss: 3.3241 - mae: 1.3989 - mse: 3.1956 - val_loss: 5.1176 - val_mae: 1.7133 - val_mse: 4.6903\n",
            "Epoch 18/100\n",
            "10/10 [==============================] - 0s 7ms/step - loss: 3.1541 - mae: 1.4242 - mse: 3.1119 - val_loss: 3.6768 - val_mae: 1.5353 - val_mse: 3.6839\n",
            "Epoch 19/100\n",
            "10/10 [==============================] - 0s 6ms/step - loss: 2.8994 - mae: 1.3764 - mse: 2.9472 - val_loss: 3.4592 - val_mae: 1.4628 - val_mse: 3.4399\n",
            "Epoch 20/100\n",
            "10/10 [==============================] - 0s 5ms/step - loss: 2.7002 - mae: 1.3219 - mse: 2.7183 - val_loss: 3.3964 - val_mae: 1.4219 - val_mse: 3.3350\n",
            "Epoch 21/100\n",
            "10/10 [==============================] - 0s 6ms/step - loss: 2.8911 - mae: 1.3693 - mse: 2.9692 - val_loss: 3.2604 - val_mae: 1.3772 - val_mse: 3.1699\n",
            "Epoch 22/100\n",
            "10/10 [==============================] - 0s 5ms/step - loss: 2.5036 - mae: 1.2957 - mse: 2.5717 - val_loss: 2.8845 - val_mae: 1.3356 - val_mse: 2.8731\n",
            "Epoch 23/100\n",
            "10/10 [==============================] - 0s 5ms/step - loss: 2.4545 - mae: 1.2392 - mse: 2.3887 - val_loss: 3.0476 - val_mae: 1.3035 - val_mse: 2.9283\n",
            "Epoch 24/100\n",
            "10/10 [==============================] - 0s 5ms/step - loss: 2.5107 - mae: 1.2647 - mse: 2.4407 - val_loss: 3.1950 - val_mae: 1.2967 - val_mse: 2.9855\n",
            "Epoch 25/100\n",
            "10/10 [==============================] - 0s 6ms/step - loss: 2.4435 - mae: 1.2437 - mse: 2.4020 - val_loss: 3.2478 - val_mae: 1.2994 - val_mse: 3.0256\n",
            "Epoch 26/100\n",
            "10/10 [==============================] - 0s 6ms/step - loss: 2.2554 - mae: 1.2109 - mse: 2.2562 - val_loss: 2.6672 - val_mae: 1.1744 - val_mse: 2.5310\n",
            "Epoch 27/100\n",
            "10/10 [==============================] - 0s 6ms/step - loss: 2.0414 - mae: 1.1346 - mse: 2.0445 - val_loss: 2.2297 - val_mae: 1.1228 - val_mse: 2.1798\n",
            "Epoch 28/100\n",
            "10/10 [==============================] - 0s 6ms/step - loss: 1.9167 - mae: 1.0995 - mse: 1.9491 - val_loss: 2.1758 - val_mae: 1.1018 - val_mse: 2.1309\n",
            "Epoch 29/100\n",
            "10/10 [==============================] - 0s 6ms/step - loss: 2.1767 - mae: 1.1374 - mse: 2.1419 - val_loss: 2.2197 - val_mae: 1.0902 - val_mse: 2.1755\n",
            "Epoch 30/100\n",
            "10/10 [==============================] - 0s 6ms/step - loss: 1.7755 - mae: 1.0440 - mse: 1.7857 - val_loss: 3.3811 - val_mae: 1.2745 - val_mse: 3.0687\n",
            "Epoch 31/100\n",
            "10/10 [==============================] - 0s 6ms/step - loss: 1.9870 - mae: 1.1048 - mse: 1.9445 - val_loss: 2.1767 - val_mae: 1.1159 - val_mse: 2.2031\n",
            "Epoch 32/100\n",
            "10/10 [==============================] - 0s 7ms/step - loss: 1.7976 - mae: 1.0417 - mse: 1.8066 - val_loss: 2.2435 - val_mae: 1.0677 - val_mse: 2.1614\n",
            "Epoch 33/100\n",
            "10/10 [==============================] - 0s 6ms/step - loss: 1.9012 - mae: 1.0751 - mse: 1.8963 - val_loss: 2.8154 - val_mae: 1.1542 - val_mse: 2.5755\n",
            "Epoch 34/100\n",
            "10/10 [==============================] - 0s 6ms/step - loss: 1.8485 - mae: 1.0470 - mse: 1.8571 - val_loss: 2.8677 - val_mae: 1.1630 - val_mse: 2.6123\n",
            "Epoch 35/100\n",
            "10/10 [==============================] - 0s 6ms/step - loss: 1.8648 - mae: 1.0474 - mse: 1.8626 - val_loss: 3.0502 - val_mae: 1.1950 - val_mse: 2.7479\n",
            "Epoch 36/100\n",
            "10/10 [==============================] - 0s 6ms/step - loss: 1.9665 - mae: 1.0931 - mse: 1.9838 - val_loss: 2.1375 - val_mae: 1.0409 - val_mse: 2.0424\n",
            "Epoch 37/100\n",
            "10/10 [==============================] - 0s 6ms/step - loss: 1.7590 - mae: 1.0193 - mse: 1.7613 - val_loss: 1.9980 - val_mae: 1.0641 - val_mse: 1.9378\n",
            "Epoch 38/100\n",
            "10/10 [==============================] - 0s 5ms/step - loss: 1.7405 - mae: 1.0169 - mse: 1.7095 - val_loss: 2.6897 - val_mae: 1.2189 - val_mse: 2.6783\n",
            "Epoch 39/100\n",
            "10/10 [==============================] - 0s 5ms/step - loss: 1.8242 - mae: 1.0356 - mse: 1.8194 - val_loss: 2.2833 - val_mae: 1.0495 - val_mse: 2.1475\n",
            "Epoch 40/100\n",
            "10/10 [==============================] - 0s 5ms/step - loss: 1.8874 - mae: 1.0677 - mse: 1.9387 - val_loss: 2.0754 - val_mae: 1.0414 - val_mse: 2.0088\n",
            "Epoch 41/100\n",
            "10/10 [==============================] - 0s 5ms/step - loss: 1.7819 - mae: 0.9914 - mse: 1.6607 - val_loss: 2.4733 - val_mae: 1.1761 - val_mse: 2.4366\n",
            "Epoch 42/100\n",
            "10/10 [==============================] - 0s 6ms/step - loss: 1.8699 - mae: 1.0577 - mse: 1.8762 - val_loss: 2.1568 - val_mae: 1.0391 - val_mse: 2.0760\n",
            "Epoch 43/100\n",
            "10/10 [==============================] - 0s 6ms/step - loss: 1.6134 - mae: 0.9731 - mse: 1.6366 - val_loss: 2.0488 - val_mae: 1.0783 - val_mse: 2.0163\n",
            "Epoch 44/100\n",
            "10/10 [==============================] - 0s 6ms/step - loss: 1.9536 - mae: 1.0778 - mse: 1.9111 - val_loss: 2.2635 - val_mae: 1.1287 - val_mse: 2.2107\n",
            "Epoch 45/100\n",
            "10/10 [==============================] - 0s 6ms/step - loss: 1.6683 - mae: 0.9821 - mse: 1.6683 - val_loss: 1.9758 - val_mae: 1.0406 - val_mse: 1.9338\n",
            "Epoch 46/100\n",
            "10/10 [==============================] - 0s 6ms/step - loss: 1.9835 - mae: 1.0418 - mse: 1.9104 - val_loss: 1.9999 - val_mae: 1.0248 - val_mse: 1.9316\n",
            "Epoch 47/100\n",
            "10/10 [==============================] - 0s 6ms/step - loss: 1.5980 - mae: 0.9915 - mse: 1.6118 - val_loss: 2.3255 - val_mae: 1.1427 - val_mse: 2.2733\n",
            "Epoch 48/100\n",
            "10/10 [==============================] - 0s 6ms/step - loss: 1.6967 - mae: 1.0212 - mse: 1.7107 - val_loss: 1.9678 - val_mae: 1.0224 - val_mse: 1.9039\n",
            "Epoch 49/100\n",
            "10/10 [==============================] - 0s 7ms/step - loss: 1.8359 - mae: 1.0306 - mse: 1.7945 - val_loss: 2.3873 - val_mae: 1.0469 - val_mse: 2.2020\n",
            "Epoch 50/100\n",
            "10/10 [==============================] - 0s 5ms/step - loss: 1.6977 - mae: 1.0097 - mse: 1.6823 - val_loss: 2.0997 - val_mae: 1.0182 - val_mse: 1.9911\n",
            "Epoch 51/100\n",
            "10/10 [==============================] - 0s 5ms/step - loss: 1.9319 - mae: 1.0639 - mse: 1.9294 - val_loss: 1.9763 - val_mae: 1.0219 - val_mse: 1.9094\n",
            "Epoch 52/100\n",
            "10/10 [==============================] - 0s 5ms/step - loss: 1.6556 - mae: 0.9851 - mse: 1.6479 - val_loss: 2.1907 - val_mae: 1.1112 - val_mse: 2.2006\n",
            "Epoch 53/100\n",
            "10/10 [==============================] - 0s 5ms/step - loss: 1.8415 - mae: 1.0367 - mse: 1.8557 - val_loss: 1.9303 - val_mae: 1.0201 - val_mse: 1.8718\n",
            "Epoch 54/100\n",
            "10/10 [==============================] - 0s 6ms/step - loss: 1.7351 - mae: 0.9983 - mse: 1.6976 - val_loss: 2.4016 - val_mae: 1.1519 - val_mse: 2.2961\n",
            "Epoch 55/100\n",
            "10/10 [==============================] - 0s 6ms/step - loss: 1.7364 - mae: 1.0199 - mse: 1.7531 - val_loss: 1.9285 - val_mae: 1.0174 - val_mse: 1.8673\n",
            "Epoch 56/100\n",
            "10/10 [==============================] - 0s 6ms/step - loss: 1.6117 - mae: 0.9640 - mse: 1.6178 - val_loss: 2.2723 - val_mae: 1.0347 - val_mse: 2.1242\n",
            "Epoch 57/100\n",
            "10/10 [==============================] - 0s 6ms/step - loss: 1.9868 - mae: 1.1145 - mse: 2.0329 - val_loss: 1.9127 - val_mae: 1.0332 - val_mse: 1.8475\n",
            "Epoch 58/100\n",
            "10/10 [==============================] - 0s 8ms/step - loss: 1.7520 - mae: 1.0000 - mse: 1.7712 - val_loss: 2.0842 - val_mae: 1.0153 - val_mse: 1.9878\n",
            "Epoch 59/100\n",
            "10/10 [==============================] - 0s 6ms/step - loss: 1.5354 - mae: 0.9656 - mse: 1.5606 - val_loss: 1.9101 - val_mae: 1.0109 - val_mse: 1.8372\n",
            "Epoch 60/100\n",
            "10/10 [==============================] - 0s 6ms/step - loss: 2.1677 - mae: 1.0948 - mse: 2.1317 - val_loss: 1.8806 - val_mae: 1.0141 - val_mse: 1.8233\n",
            "Epoch 61/100\n",
            "10/10 [==============================] - 0s 5ms/step - loss: 1.5900 - mae: 0.9526 - mse: 1.5730 - val_loss: 2.0391 - val_mae: 1.0122 - val_mse: 1.9532\n",
            "Epoch 62/100\n",
            "10/10 [==============================] - 0s 5ms/step - loss: 1.6575 - mae: 0.9642 - mse: 1.5862 - val_loss: 3.0689 - val_mae: 1.1831 - val_mse: 2.7483\n",
            "Epoch 63/100\n",
            "10/10 [==============================] - 0s 6ms/step - loss: 1.6735 - mae: 1.0140 - mse: 1.6950 - val_loss: 2.0765 - val_mae: 1.0033 - val_mse: 1.9451\n",
            "Epoch 64/100\n",
            "10/10 [==============================] - 0s 6ms/step - loss: 1.6605 - mae: 0.9647 - mse: 1.6267 - val_loss: 3.9166 - val_mae: 1.3211 - val_mse: 3.4158\n",
            "Epoch 65/100\n",
            "10/10 [==============================] - 0s 7ms/step - loss: 1.9756 - mae: 1.0679 - mse: 2.0252 - val_loss: 1.9088 - val_mae: 1.0028 - val_mse: 1.8257\n",
            "Epoch 66/100\n",
            "10/10 [==============================] - 0s 6ms/step - loss: 1.6831 - mae: 0.9834 - mse: 1.6366 - val_loss: 2.3820 - val_mae: 1.0411 - val_mse: 2.1994\n",
            "Epoch 67/100\n",
            "10/10 [==============================] - 0s 5ms/step - loss: 1.6791 - mae: 0.9868 - mse: 1.6807 - val_loss: 2.6981 - val_mae: 1.1097 - val_mse: 2.4568\n",
            "Epoch 68/100\n",
            "10/10 [==============================] - 0s 6ms/step - loss: 1.6201 - mae: 0.9722 - mse: 1.6500 - val_loss: 1.9232 - val_mae: 1.0105 - val_mse: 1.8730\n",
            "Epoch 69/100\n",
            "10/10 [==============================] - 0s 6ms/step - loss: 1.8090 - mae: 1.0273 - mse: 1.8107 - val_loss: 1.8862 - val_mae: 1.0203 - val_mse: 1.8524\n",
            "Epoch 70/100\n",
            "10/10 [==============================] - 0s 5ms/step - loss: 1.5752 - mae: 0.9505 - mse: 1.5413 - val_loss: 2.1032 - val_mae: 1.0223 - val_mse: 2.0466\n",
            "Epoch 71/100\n",
            "10/10 [==============================] - 0s 5ms/step - loss: 1.5945 - mae: 0.9605 - mse: 1.5839 - val_loss: 2.1134 - val_mae: 1.0919 - val_mse: 2.0478\n",
            "Epoch 72/100\n",
            "10/10 [==============================] - 0s 6ms/step - loss: 1.8594 - mae: 1.0444 - mse: 1.8814 - val_loss: 1.9004 - val_mae: 1.0013 - val_mse: 1.8257\n",
            "Epoch 73/100\n",
            "10/10 [==============================] - 0s 6ms/step - loss: 1.5906 - mae: 0.9796 - mse: 1.6235 - val_loss: 1.9388 - val_mae: 1.0028 - val_mse: 1.8656\n",
            "Epoch 74/100\n",
            "10/10 [==============================] - 0s 6ms/step - loss: 1.5400 - mae: 0.9402 - mse: 1.5270 - val_loss: 3.0268 - val_mae: 1.1721 - val_mse: 2.7157\n",
            "Epoch 75/100\n",
            "10/10 [==============================] - 0s 6ms/step - loss: 1.8171 - mae: 1.0100 - mse: 1.7874 - val_loss: 2.6204 - val_mae: 1.0832 - val_mse: 2.3761\n",
            "Epoch 76/100\n",
            "10/10 [==============================] - 0s 5ms/step - loss: 1.7091 - mae: 0.9945 - mse: 1.7527 - val_loss: 1.8684 - val_mae: 1.0044 - val_mse: 1.8046\n",
            "Epoch 77/100\n",
            "10/10 [==============================] - 0s 5ms/step - loss: 1.8829 - mae: 1.0131 - mse: 1.8892 - val_loss: 1.8849 - val_mae: 0.9996 - val_mse: 1.8218\n",
            "Epoch 78/100\n",
            "10/10 [==============================] - 0s 5ms/step - loss: 1.8350 - mae: 1.0024 - mse: 1.7387 - val_loss: 2.6238 - val_mae: 1.0897 - val_mse: 2.3801\n",
            "Epoch 79/100\n",
            "10/10 [==============================] - 0s 5ms/step - loss: 1.7503 - mae: 0.9685 - mse: 1.6680 - val_loss: 2.4913 - val_mae: 1.0688 - val_mse: 2.2801\n",
            "Epoch 80/100\n",
            "10/10 [==============================] - 0s 6ms/step - loss: 1.7795 - mae: 1.0183 - mse: 1.8080 - val_loss: 1.8406 - val_mae: 0.9915 - val_mse: 1.7559\n",
            "Epoch 81/100\n",
            "10/10 [==============================] - 0s 5ms/step - loss: 1.4884 - mae: 0.9236 - mse: 1.5141 - val_loss: 2.1418 - val_mae: 1.0024 - val_mse: 1.9802\n",
            "Epoch 82/100\n",
            "10/10 [==============================] - 0s 5ms/step - loss: 1.6508 - mae: 0.9917 - mse: 1.6514 - val_loss: 3.7047 - val_mae: 1.2836 - val_mse: 3.2359\n",
            "Epoch 83/100\n",
            "10/10 [==============================] - 0s 5ms/step - loss: 1.6938 - mae: 0.9786 - mse: 1.6936 - val_loss: 1.9951 - val_mae: 1.0002 - val_mse: 1.8985\n",
            "Epoch 84/100\n",
            "10/10 [==============================] - 0s 5ms/step - loss: 1.6710 - mae: 0.9601 - mse: 1.6007 - val_loss: 1.9653 - val_mae: 1.0477 - val_mse: 1.9237\n",
            "Epoch 85/100\n",
            "10/10 [==============================] - 0s 5ms/step - loss: 1.6343 - mae: 0.9788 - mse: 1.6582 - val_loss: 1.8940 - val_mae: 0.9935 - val_mse: 1.8188\n",
            "Epoch 86/100\n",
            "10/10 [==============================] - 0s 6ms/step - loss: 1.4911 - mae: 0.9415 - mse: 1.5132 - val_loss: 1.9149 - val_mae: 1.0299 - val_mse: 1.8717\n",
            "Epoch 87/100\n",
            "10/10 [==============================] - 0s 6ms/step - loss: 1.6230 - mae: 0.9661 - mse: 1.6746 - val_loss: 1.8911 - val_mae: 1.0186 - val_mse: 1.8335\n",
            "Epoch 88/100\n",
            "10/10 [==============================] - 0s 6ms/step - loss: 1.4891 - mae: 0.9269 - mse: 1.5000 - val_loss: 1.8865 - val_mae: 0.9892 - val_mse: 1.7940\n",
            "Epoch 89/100\n",
            "10/10 [==============================] - 0s 6ms/step - loss: 1.7253 - mae: 0.9860 - mse: 1.6791 - val_loss: 1.8329 - val_mae: 0.9934 - val_mse: 1.7631\n",
            "Epoch 90/100\n",
            "10/10 [==============================] - 0s 6ms/step - loss: 1.6241 - mae: 0.9546 - mse: 1.6025 - val_loss: 1.8911 - val_mae: 0.9868 - val_mse: 1.7800\n",
            "Epoch 91/100\n",
            "10/10 [==============================] - 0s 6ms/step - loss: 1.5996 - mae: 0.9520 - mse: 1.5941 - val_loss: 2.1087 - val_mae: 1.0854 - val_mse: 2.0313\n",
            "Epoch 92/100\n",
            "10/10 [==============================] - 0s 6ms/step - loss: 1.7837 - mae: 1.0176 - mse: 1.8251 - val_loss: 1.8301 - val_mae: 0.9886 - val_mse: 1.7464\n",
            "Epoch 93/100\n",
            "10/10 [==============================] - 0s 6ms/step - loss: 1.5024 - mae: 0.9425 - mse: 1.5315 - val_loss: 2.0683 - val_mae: 0.9952 - val_mse: 1.9024\n",
            "Epoch 94/100\n",
            "10/10 [==============================] - 0s 7ms/step - loss: 1.7304 - mae: 0.9521 - mse: 1.7426 - val_loss: 1.8413 - val_mae: 0.9999 - val_mse: 1.7675\n",
            "Epoch 95/100\n",
            "10/10 [==============================] - 0s 6ms/step - loss: 1.7127 - mae: 0.9812 - mse: 1.7016 - val_loss: 1.8901 - val_mae: 1.0171 - val_mse: 1.8541\n",
            "Epoch 96/100\n",
            "10/10 [==============================] - 0s 7ms/step - loss: 1.5295 - mae: 0.9501 - mse: 1.5511 - val_loss: 1.8436 - val_mae: 0.9881 - val_mse: 1.7789\n",
            "Epoch 97/100\n",
            "10/10 [==============================] - 0s 7ms/step - loss: 1.7497 - mae: 0.9860 - mse: 1.8053 - val_loss: 1.8037 - val_mae: 0.9830 - val_mse: 1.7274\n",
            "Epoch 98/100\n",
            "10/10 [==============================] - 0s 6ms/step - loss: 1.5643 - mae: 0.9269 - mse: 1.5164 - val_loss: 2.1553 - val_mae: 1.0118 - val_mse: 1.9997\n",
            "Epoch 99/100\n",
            "10/10 [==============================] - 0s 5ms/step - loss: 1.8801 - mae: 1.0148 - mse: 1.8111 - val_loss: 2.0031 - val_mae: 0.9876 - val_mse: 1.8674\n",
            "Epoch 100/100\n",
            "10/10 [==============================] - 0s 5ms/step - loss: 1.4947 - mae: 0.9396 - mse: 1.5082 - val_loss: 1.8370 - val_mae: 0.9820 - val_mse: 1.7646\n"
          ],
          "name": "stdout"
        },
        {
          "output_type": "execute_result",
          "data": {
            "text/plain": [
              "<tensorflow.python.keras.callbacks.History at 0x7fb615187e80>"
            ]
          },
          "metadata": {
            "tags": []
          },
          "execution_count": 78
        }
      ]
    },
    {
      "cell_type": "markdown",
      "metadata": {
        "id": "7nwNCbyU4hf4",
        "colab_type": "text"
      },
      "source": [
        "## Testing model to predict the <b>x_test</b>"
      ]
    },
    {
      "cell_type": "code",
      "metadata": {
        "id": "tQV3-irl2eGD",
        "colab_type": "code",
        "outputId": "bd6889af-c247-4ada-da70-8e37eab02830",
        "colab": {
          "base_uri": "https://localhost:8080/",
          "height": 493
        }
      },
      "source": [
        "hasil_tf = model.predict(x_test)\n",
        "\n",
        "# HASIL PREDIKSI\n",
        "hasil_tf.ravel()"
      ],
      "execution_count": 79,
      "outputs": [
        {
          "output_type": "execute_result",
          "data": {
            "text/plain": [
              "array([5.071251 , 6.746087 , 6.0627527, 6.030834 , 5.7090893, 4.768486 ,\n",
              "       3.4188564, 6.255804 , 4.372282 , 5.0475683, 3.8321846, 5.201397 ,\n",
              "       4.5856457, 4.382347 , 4.923217 , 6.522684 , 3.9324365, 4.2660036,\n",
              "       5.1339417, 6.6580276, 4.365841 , 3.649948 , 5.872571 , 3.2312934,\n",
              "       4.599825 , 2.1970053, 3.551533 , 5.8288336, 2.6060965, 2.8422678,\n",
              "       4.7532597, 6.2315416, 6.014638 , 3.8756378, 2.3075736, 6.7437115,\n",
              "       2.007633 , 6.1740227, 5.662964 , 2.621452 , 4.325431 , 4.8134346,\n",
              "       4.372282 , 5.0170584, 5.054738 , 5.2155285, 6.6095095, 4.2129335,\n",
              "       2.4233873, 7.4014826, 4.6471977, 6.659133 , 3.408223 , 5.9273357,\n",
              "       3.1917977, 4.6013336, 6.357423 , 4.2819624, 2.5525799, 4.4900913,\n",
              "       5.4642696, 3.81516  , 5.3371925, 4.2819624, 5.8600874, 4.611224 ,\n",
              "       5.7272434, 4.5179167, 4.1474686, 5.183057 , 4.467942 , 4.6644907,\n",
              "       4.6062784, 5.040266 , 5.141556 , 1.8684657, 4.251095 , 4.6492033,\n",
              "       3.7583106, 5.992447 , 5.1190643, 4.2761726, 3.6921728, 4.5939865,\n",
              "       4.846614 , 5.3763437, 3.2915108, 2.9209259, 4.979228 , 5.1411924,\n",
              "       4.5581837, 6.23862  , 4.691324 , 2.3338225, 5.037856 , 5.351325 ,\n",
              "       5.5953455, 4.517709 , 3.750497 , 3.7056162, 4.4770794, 5.7430954,\n",
              "       5.7292604, 4.5504866, 3.6182096, 4.016984 , 5.0891714, 6.9399996,\n",
              "       3.9637554, 6.9670143, 4.3279696, 5.0124264, 2.3119748, 2.5813658,\n",
              "       6.871313 , 6.017046 , 3.7801282, 5.7599106, 3.2029212, 4.016415 ,\n",
              "       3.0048037, 3.8724334, 4.221797 , 3.5119777, 2.848786 , 4.177252 ,\n",
              "       5.4322357, 7.05744  , 6.14806  , 5.4432783, 7.762434 , 5.7240467,\n",
              "       4.740615 , 3.5858343, 3.974795 , 5.4561005, 4.79601  , 3.950761 ,\n",
              "       5.9461117, 4.372282 , 4.8645554, 2.705859 , 3.7736638, 4.0950727,\n",
              "       4.502451 , 3.6017504, 4.719186 , 3.5900888, 2.942388 , 5.815031 ,\n",
              "       3.9380877, 3.6196065, 2.7202032, 3.3060749, 4.4787855, 5.625764 ,\n",
              "       7.916684 , 7.528078 , 3.747073 , 3.66202  , 4.955656 , 4.8928337,\n",
              "       4.3751326, 2.765968 ], dtype=float32)"
            ]
          },
          "metadata": {
            "tags": []
          },
          "execution_count": 79
        }
      ]
    },
    {
      "cell_type": "markdown",
      "metadata": {
        "id": "Wg98nF9C4veP",
        "colab_type": "text"
      },
      "source": [
        "## Evaluate the model using <b>mean squared error</b>"
      ]
    },
    {
      "cell_type": "markdown",
      "metadata": {
        "id": "bySRKQ1FuprJ",
        "colab_type": "text"
      },
      "source": [
        "Getting smaller the MSE of a model, getting better model in predicting"
      ]
    },
    {
      "cell_type": "code",
      "metadata": {
        "id": "AePLgFIQ22DX",
        "colab_type": "code",
        "outputId": "de26efbd-97da-405a-bf9e-75164e965730",
        "colab": {
          "base_uri": "https://localhost:8080/",
          "height": 34
        }
      },
      "source": [
        "mean_squared_error(y_test, hasil_tf)"
      ],
      "execution_count": 80,
      "outputs": [
        {
          "output_type": "execute_result",
          "data": {
            "text/plain": [
              "1.580812498236921"
            ]
          },
          "metadata": {
            "tags": []
          },
          "execution_count": 80
        }
      ]
    },
    {
      "cell_type": "markdown",
      "metadata": {
        "id": "FlpkhTv_5KMs",
        "colab_type": "text"
      },
      "source": [
        "## Data result visualization with line chart"
      ]
    },
    {
      "cell_type": "code",
      "metadata": {
        "id": "d-r3sYsW3hDm",
        "colab_type": "code",
        "outputId": "f098675f-999a-43e9-8314-4cf181d19efe",
        "colab": {
          "base_uri": "https://localhost:8080/",
          "height": 282
        }
      },
      "source": [
        "plt.plot(list(hasil_tf), label='Tensorflow')\n",
        "plt.plot(list(y_test), label='Actual Value')\n",
        "\n",
        "plt.legend(loc=\"upper right\")"
      ],
      "execution_count": 81,
      "outputs": [
        {
          "output_type": "execute_result",
          "data": {
            "text/plain": [
              "<matplotlib.legend.Legend at 0x7fb626411a20>"
            ]
          },
          "metadata": {
            "tags": []
          },
          "execution_count": 81
        },
        {
          "output_type": "display_data",
          "data": {
            "image/png": "[encoded data removed]",
            "text/plain": [
              "<Figure size 432x288 with 1 Axes>"
            ]
          },
          "metadata": {
            "tags": []
          }
        }
      ]
    }
  ]
}